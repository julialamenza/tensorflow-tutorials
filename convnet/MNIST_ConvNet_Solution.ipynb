{
 "cells": [
  {
   "cell_type": "code",
   "execution_count": 1,
   "metadata": {},
   "outputs": [],
   "source": [
    "import tensorflow as tf\n",
    "import numpy as np\n",
    "import matplotlib.pyplot as plt\n",
    "from mpl_toolkits.axes_grid1 import ImageGrid\n",
    "from tensorflow.examples.tutorials.mnist import input_data\n",
    "\n",
    "tfe = tf.contrib.eager\n",
    "tf.enable_eager_execution()"
   ]
  },
  {
   "cell_type": "code",
   "execution_count": 2,
   "metadata": {},
   "outputs": [
    {
     "name": "stdout",
     "output_type": "stream",
     "text": [
      "Eager is Enabled!\n"
     ]
    }
   ],
   "source": [
    "if tf.executing_eagerly():\n",
    "    print(\"Eager is Enabled!\")"
   ]
  },
  {
   "cell_type": "markdown",
   "metadata": {},
   "source": [
    "## Load MNIST data"
   ]
  },
  {
   "cell_type": "code",
   "execution_count": 3,
   "metadata": {},
   "outputs": [
    {
     "name": "stdout",
     "output_type": "stream",
     "text": [
      "WARNING:tensorflow:From <ipython-input-3-b8fd4c8de6c9>:1: read_data_sets (from tensorflow.contrib.learn.python.learn.datasets.mnist) is deprecated and will be removed in a future version.\n",
      "Instructions for updating:\n",
      "Please use alternatives such as official/mnist/dataset.py from tensorflow/models.\n",
      "WARNING:tensorflow:From /home/thallessilva/.virtualenvs/cv/lib/python3.6/site-packages/tensorflow/contrib/learn/python/learn/datasets/mnist.py:260: maybe_download (from tensorflow.contrib.learn.python.learn.datasets.base) is deprecated and will be removed in a future version.\n",
      "Instructions for updating:\n",
      "Please write your own downloading logic.\n",
      "WARNING:tensorflow:From /home/thallessilva/.virtualenvs/cv/lib/python3.6/site-packages/tensorflow/contrib/learn/python/learn/datasets/mnist.py:262: extract_images (from tensorflow.contrib.learn.python.learn.datasets.mnist) is deprecated and will be removed in a future version.\n",
      "Instructions for updating:\n",
      "Please use tf.data to implement this functionality.\n",
      "Extracting MNIST_data/train-images-idx3-ubyte.gz\n",
      "WARNING:tensorflow:From /home/thallessilva/.virtualenvs/cv/lib/python3.6/site-packages/tensorflow/contrib/learn/python/learn/datasets/mnist.py:267: extract_labels (from tensorflow.contrib.learn.python.learn.datasets.mnist) is deprecated and will be removed in a future version.\n",
      "Instructions for updating:\n",
      "Please use tf.data to implement this functionality.\n",
      "Extracting MNIST_data/train-labels-idx1-ubyte.gz\n",
      "Extracting MNIST_data/t10k-images-idx3-ubyte.gz\n",
      "Extracting MNIST_data/t10k-labels-idx1-ubyte.gz\n",
      "WARNING:tensorflow:From /home/thallessilva/.virtualenvs/cv/lib/python3.6/site-packages/tensorflow/contrib/learn/python/learn/datasets/mnist.py:290: DataSet.__init__ (from tensorflow.contrib.learn.python.learn.datasets.mnist) is deprecated and will be removed in a future version.\n",
      "Instructions for updating:\n",
      "Please use alternatives such as official/mnist/dataset.py from tensorflow/models.\n"
     ]
    }
   ],
   "source": [
    "mnist = input_data.read_data_sets('MNIST_data')"
   ]
  },
  {
   "cell_type": "markdown",
   "metadata": {},
   "source": [
    "# Visualize the dataset Shape and Stats"
   ]
  },
  {
   "cell_type": "code",
   "execution_count": 4,
   "metadata": {},
   "outputs": [
    {
     "name": "stdout",
     "output_type": "stream",
     "text": [
      "Train shape: (55000, 784)\n",
      "Train labels: (55000,)\n",
      "Test shape: (10000, 784)\n",
      "Test labels: (10000,)\n"
     ]
    }
   ],
   "source": [
    "print(\"Train shape:\", mnist.train.images.shape)\n",
    "print(\"Train labels:\", mnist.train.labels.shape)\n",
    "print(\"Test shape:\", mnist.test.images.shape)\n",
    "print(\"Test labels:\", mnist.test.labels.shape)"
   ]
  },
  {
   "cell_type": "code",
   "execution_count": 5,
   "metadata": {},
   "outputs": [
    {
     "name": "stdout",
     "output_type": "stream",
     "text": [
      "Train: [5444. 6179. 5470. 5638. 5307. 4987. 5417. 5715. 5389. 5454.]\n",
      "Test: [ 980. 1135. 1032. 1010.  982.  892.  958. 1028.  974. 1009.]\n"
     ]
    },
    {
     "data": {
      "image/png": "[encoded data removed]",
      "text/plain": [
       "<Figure size 432x288 with 1 Axes>"
      ]
     },
     "metadata": {},
     "output_type": "display_data"
    }
   ],
   "source": [
    "import pylab as P\n",
    "n, bins, patches = P.hist(mnist.train.labels, bins=10, histtype=\"bar\", rwidth=0.8)\n",
    "print(\"Train:\", n)\n",
    "n, bins, patches = P.hist(mnist.test.labels, bins=10, histtype=\"bar\", rwidth=0.8 )\n",
    "print(\"Test:\", n)\n",
    "P.xlabel('Classes')\n",
    "P.ylabel('Distribution')\n",
    "P.title('Train/Test distribution')\n",
    "P.show()"
   ]
  },
  {
   "cell_type": "code",
   "execution_count": 6,
   "metadata": {},
   "outputs": [
    {
     "name": "stdout",
     "output_type": "stream",
     "text": [
      "Max value: 0.9960785\n",
      "Min value: 0.0\n",
      "Mean: 0.15441678\n",
      "Std: 0.33027557\n"
     ]
    }
   ],
   "source": [
    "print(\"Max value:\", np.max(mnist.train.images[0]))\n",
    "print(\"Min value:\", np.min(mnist.train.images[0]))\n",
    "print(\"Mean:\", np.mean(mnist.train.images[0]))\n",
    "print(\"Std:\", np.std(mnist.train.images[0]))"
   ]
  },
  {
   "cell_type": "markdown",
   "metadata": {},
   "source": [
    "## Visualize some MNIST images"
   ]
  },
  {
   "cell_type": "code",
   "execution_count": 7,
   "metadata": {},
   "outputs": [
    {
     "data": {
      "image/png": "[encoded data removed]",
      "text/plain": [
       "<Figure size 432x432 with 32 Axes>"
      ]
     },
     "metadata": {},
     "output_type": "display_data"
    }
   ],
   "source": [
    "fig = plt.figure(1, (6., 6.))\n",
    "grid = ImageGrid(fig, 111,  # similar to subplot(111)\n",
    "                 nrows_ncols=(4, 4),  # creates 2x2 grid of axes\n",
    "                 axes_pad=0.1,  # pad between axes in inch.\n",
    "                 )\n",
    "\n",
    "for i in range(16):\n",
    "    grid[i].imshow(mnist.train.images[i].reshape((28,28)), cmap=\"gray\")  # The AxesGrid object work as a list of axes.\n",
    "\n",
    "plt.show()"
   ]
  },
  {
   "cell_type": "markdown",
   "metadata": {},
   "source": [
    "## Building Tensorflow Model"
   ]
  },
  {
   "cell_type": "markdown",
   "metadata": {},
   "source": [
    "Convolution layer: https://www.tensorflow.org/api_docs/python/tf/keras/layers/Conv2D\n",
    "MaxPooling layer: https://www.tensorflow.org/api_docs/python/tf/keras/layers/MaxPool2D"
   ]
  },
  {
   "cell_type": "code",
   "execution_count": 8,
   "metadata": {},
   "outputs": [],
   "source": [
    "class MNISTModel(tf.keras.Model):\n",
    "    \n",
    "    def __init__(self):\n",
    "        super(MNISTModel, self).__init__()\n",
    "        self.conv1 = tf.keras.layers.Conv2D(filters=32, kernel_size=3, strides=(1, 1),\n",
    "                                            padding='same', activation=tf.nn.relu, use_bias=True)\n",
    "        self.pool1 = tf.keras.layers.MaxPool2D(pool_size=2, strides=2, padding=\"same\")\n",
    "        self.flatten = tf.layers.Flatten()\n",
    "        self.fc1 = tf.keras.layers.Dense(units=128, activation=tf.nn.relu)\n",
    "        self.logits = tf.keras.layers.Dense(units=10)\n",
    "\n",
    "    def call(self, inputs):\n",
    "        conv1 = self.conv1(inputs)\n",
    "        pool1 = self.pool1(conv1)\n",
    "        flat = self.flatten(pool1)\n",
    "        fc1 = self.fc1(flat)\n",
    "        logits = self.logits(fc1)\n",
    "        return logits"
   ]
  },
  {
   "cell_type": "code",
   "execution_count": 9,
   "metadata": {},
   "outputs": [],
   "source": [
    "def loss(logits, labels):\n",
    "    labels_one_hot = tf.one_hot(labels, 10)\n",
    "    cross_entropy = tf.nn.softmax_cross_entropy_with_logits_v2(labels=labels_one_hot, logits=logits)\n",
    "    return tf.reduce_mean(cross_entropy)"
   ]
  },
  {
   "cell_type": "code",
   "execution_count": 10,
   "metadata": {},
   "outputs": [],
   "source": [
    "def compute_grads(model, logits, targets):\n",
    "    with tfe.GradientTape() as tape:\n",
    "        logits = model(X_batch)\n",
    "        loss_value = loss(logits, targets)\n",
    "    return tape.gradient(loss_value, model.weights)"
   ]
  },
  {
   "cell_type": "code",
   "execution_count": 11,
   "metadata": {},
   "outputs": [],
   "source": [
    "optimizer = tf.train.AdamOptimizer(learning_rate=0.001)"
   ]
  },
  {
   "cell_type": "code",
   "execution_count": 12,
   "metadata": {},
   "outputs": [],
   "source": [
    "model = MNISTModel()"
   ]
  },
  {
   "cell_type": "code",
   "execution_count": 15,
   "metadata": {},
   "outputs": [
    {
     "name": "stdout",
     "output_type": "stream",
     "text": [
      "Train step: 050: Loss: 0.115, Accuracy: 96.938%\n",
      "Train step: 100: Loss: 0.100, Accuracy: 97.344%\n",
      "Test Loss:  0.148 Test acc: 96.875%\n",
      "Train step: 150: Loss: 0.104, Accuracy: 97.500%\n",
      "Train step: 200: Loss: 0.101, Accuracy: 97.562%\n",
      "Test Loss:  0.0329 Test acc: 98.438%\n",
      "Train step: 250: Loss: 0.099, Accuracy: 97.588%\n",
      "Train step: 300: Loss: 0.096, Accuracy: 97.646%\n",
      "Test Loss:  0.103 Test acc: 96.875%\n",
      "Train step: 350: Loss: 0.093, Accuracy: 97.696%\n",
      "Train step: 400: Loss: 0.092, Accuracy: 97.750%\n",
      "Test Loss:  0.0165 Test acc: 97.656%\n",
      "Train step: 450: Loss: 0.091, Accuracy: 97.778%\n"
     ]
    }
   ],
   "source": [
    "train_epoch_loss_avg = tfe.metrics.Mean()\n",
    "train_epoch_accuracy = tfe.metrics.Accuracy()\n",
    "test_epoch_accuracy = tfe.metrics.Accuracy()\n",
    "\n",
    "for step in range(1,500):\n",
    "    X_batch, y_batch = mnist.train.next_batch(32)\n",
    "    X_batch = tf.reshape(X_batch, (-1,28,28,1))\n",
    "    \n",
    "    with tfe.GradientTape() as tape:\n",
    "        logits = model(X_batch)\n",
    "        loss_value = loss(logits, y_batch)\n",
    "    grads = tape.gradient(loss_value, model.weights)\n",
    "\n",
    "    optimizer.apply_gradients(zip(grads, model.weights),\n",
    "                              global_step=tf.train.get_or_create_global_step())\n",
    "    \n",
    "    \n",
    "    # track the training progress\n",
    "    train_epoch_loss_avg(loss_value)\n",
    "    train_epoch_accuracy(tf.argmax(model(X_batch), dimension=1, output_type=tf.int32), y_batch)\n",
    "    \n",
    "    if step % 50 == 0:\n",
    "        print(\"Train step: {:03d}: Loss: {:.3f}, Accuracy: {:.3%}\".format(step,\n",
    "                                                            train_epoch_loss_avg.result(),\n",
    "                                                            train_epoch_accuracy.result()))\n",
    "        \n",
    "    if step % 100 == 0:\n",
    "        X_test, y_test = mnist.test.next_batch(32)\n",
    "        X_test = tf.reshape(X_test, (-1,28,28,1))\n",
    "        test_logits = model(X_test)\n",
    "        test_loss = loss(test_logits, y_test)\n",
    "        test_predictions = tf.argmax(test_logits, dimension=1)\n",
    "        test_epoch_accuracy(test_predictions, y_test)\n",
    "        print(\"Test Loss: {: .3} Test acc: {:.3%}\".format(test_loss, test_epoch_accuracy.result()))"
   ]
  },
  {
   "cell_type": "code",
   "execution_count": null,
   "metadata": {},
   "outputs": [],
   "source": [
    "# Eval using all test set"
   ]
  },
  {
   "cell_type": "code",
   "execution_count": 19,
   "metadata": {},
   "outputs": [
    {
     "name": "stdout",
     "output_type": "stream",
     "text": [
      "[0.         0.         0.         0.         0.         0.\n",
      " 0.         0.         0.         0.         0.         0.\n",
      " 0.         0.         0.         0.         0.         0.\n",
      " 0.         0.         0.         0.         0.         0.\n",
      " 0.         0.         0.         0.         0.         0.\n",
      " 0.         0.         0.         0.         0.         0.\n",
      " 0.         0.         0.         0.         0.         0.\n",
      " 0.         0.         0.         0.         0.         0.\n",
      " 0.         0.         0.         0.         0.         0.\n",
      " 0.         0.         0.         0.         0.         0.\n",
      " 0.         0.         0.         0.         0.         0.\n",
      " 0.         0.         0.         0.         0.         0.\n",
      " 0.         0.         0.         0.         0.         0.\n",
      " 0.         0.         0.         0.         0.         0.\n",
      " 0.         0.         0.         0.         0.         0.\n",
      " 0.         0.         0.         0.         0.         0.\n",
      " 0.         0.         0.         0.         0.         0.\n",
      " 0.         0.         0.         0.         0.         0.\n",
      " 0.         0.         0.         0.         0.         0.\n",
      " 0.         0.         0.         0.         0.         0.\n",
      " 0.         0.         0.         0.         0.         0.\n",
      " 0.         0.         0.         0.         0.         0.\n",
      " 0.         0.         0.         0.         0.         0.\n",
      " 0.         0.         0.         0.         0.         0.\n",
      " 0.         0.         0.         0.         0.         0.\n",
      " 0.         0.         0.         0.         0.         0.\n",
      " 0.         0.         0.         0.         0.         0.\n",
      " 0.         0.         0.         0.         0.         0.\n",
      " 0.         0.         0.         0.         0.         0.\n",
      " 0.         0.         0.         0.         0.         0.\n",
      " 0.         0.         0.         0.         0.         0.\n",
      " 0.         0.         0.         0.         0.         0.\n",
      " 0.         0.         0.         0.         0.         0.\n",
      " 0.         0.         0.         0.         0.         0.\n",
      " 0.         0.         0.         0.         0.         0.23529413\n",
      " 0.27058825 0.61960787 0.9725491  1.         0.9960785  0.7411765\n",
      " 0.05490196 0.         0.         0.         0.         0.\n",
      " 0.         0.         0.         0.         0.         0.\n",
      " 0.         0.         0.         0.         0.         0.\n",
      " 0.06666667 0.59607846 0.86666673 0.98823535 0.9960785  0.9960785\n",
      " 0.9960785  0.9960785  0.9960785  0.9960785  0.54901963 0.\n",
      " 0.         0.         0.         0.         0.         0.\n",
      " 0.         0.         0.         0.         0.         0.\n",
      " 0.         0.         0.         0.25882354 0.8745099  0.9960785\n",
      " 0.9960785  0.9960785  0.9725491  0.63529414 0.63529414 0.6431373\n",
      " 0.9960785  0.9960785  0.59607846 0.         0.         0.\n",
      " 0.         0.         0.         0.         0.         0.\n",
      " 0.         0.         0.         0.         0.         0.\n",
      " 0.37254903 0.882353   0.9960785  0.9960785  0.7137255  0.32156864\n",
      " 0.01568628 0.         0.         0.6431373  0.9960785  0.9960785\n",
      " 0.37254903 0.         0.         0.         0.         0.\n",
      " 0.         0.         0.         0.         0.         0.\n",
      " 0.         0.         0.         0.14509805 0.9176471  0.9960785\n",
      " 0.9960785  0.57254905 0.04705883 0.         0.         0.\n",
      " 0.         0.79215693 0.9960785  0.9960785  0.22352943 0.\n",
      " 0.         0.         0.         0.         0.         0.\n",
      " 0.         0.         0.         0.         0.         0.\n",
      " 0.         0.6        0.9960785  0.9960785  0.7176471  0.04705883\n",
      " 0.         0.         0.         0.         0.         0.79215693\n",
      " 0.9960785  0.8862746  0.0627451  0.         0.         0.\n",
      " 0.         0.         0.         0.         0.         0.\n",
      " 0.         0.         0.         0.         0.         0.74509805\n",
      " 0.9960785  0.7960785  0.02745098 0.         0.         0.\n",
      " 0.         0.         0.10196079 0.909804   0.9960785  0.62352943\n",
      " 0.         0.         0.         0.         0.         0.\n",
      " 0.         0.         0.         0.         0.         0.\n",
      " 0.         0.         0.         0.18823531 0.5411765  0.21568629\n",
      " 0.         0.         0.         0.         0.         0.\n",
      " 0.654902   0.9960785  0.9960785  0.29803923 0.         0.\n",
      " 0.         0.         0.         0.         0.         0.\n",
      " 0.         0.         0.         0.         0.         0.\n",
      " 0.         0.         0.         0.         0.         0.\n",
      " 0.         0.         0.         0.09803922 0.9450981  0.9960785\n",
      " 0.7960785  0.02745098 0.         0.         0.         0.\n",
      " 0.         0.         0.         0.         0.         0.\n",
      " 0.         0.         0.         0.         0.         0.\n",
      " 0.         0.         0.         0.         0.         0.\n",
      " 0.01176471 0.7176471  0.9960785  0.9960785  0.35686275 0.\n",
      " 0.         0.         0.         0.         0.         0.\n",
      " 0.         0.         0.         0.         0.         0.\n",
      " 0.         0.         0.         0.         0.         0.\n",
      " 0.         0.         0.         0.         0.22352943 0.9960785\n",
      " 0.9960785  0.77647066 0.0627451  0.         0.         0.\n",
      " 0.         0.         0.         0.         0.         0.\n",
      " 0.         0.         0.         0.         0.         0.\n",
      " 0.         0.         0.         0.         0.         0.\n",
      " 0.         0.05882353 0.74509805 0.9960785  0.9960785  0.20392159\n",
      " 0.         0.         0.         0.         0.         0.\n",
      " 0.         0.         0.         0.         0.         0.\n",
      " 0.         0.         0.         0.         0.         0.\n",
      " 0.         0.         0.         0.         0.         0.25490198\n",
      " 0.9960785  0.9960785  0.7725491  0.01568628 0.         0.\n",
      " 0.         0.         0.         0.         0.         0.\n",
      " 0.         0.         0.         0.         0.         0.\n",
      " 0.         0.         0.         0.         0.         0.\n",
      " 0.         0.         0.01568628 0.72156864 0.9960785  0.9960785\n",
      " 0.14901961 0.         0.         0.         0.         0.\n",
      " 0.         0.         0.         0.         0.         0.\n",
      " 0.         0.         0.         0.         0.         0.\n",
      " 0.         0.         0.         0.         0.         0.\n",
      " 0.43137258 0.9960785  0.9960785  0.7960785  0.02745098 0.\n",
      " 0.         0.         0.         0.         0.         0.\n",
      " 0.         0.         0.         0.         0.         0.\n",
      " 0.         0.         0.         0.         0.         0.\n",
      " 0.         0.         0.         0.12941177 0.9686275  0.9960785\n",
      " 0.96470594 0.18431373 0.         0.         0.         0.\n",
      " 0.         0.         0.         0.         0.         0.\n",
      " 0.         0.         0.         0.         0.         0.\n",
      " 0.         0.         0.         0.         0.         0.\n",
      " 0.         0.6        0.9960785  0.9921569  0.49411768 0.\n",
      " 0.         0.         0.         0.         0.         0.\n",
      " 0.         0.         0.         0.         0.         0.\n",
      " 0.         0.         0.         0.         0.         0.\n",
      " 0.         0.         0.         0.         0.23529413 0.9333334\n",
      " 0.9960785  0.80392164 0.         0.         0.         0.\n",
      " 0.         0.         0.         0.         0.         0.\n",
      " 0.         0.         0.         0.         0.         0.\n",
      " 0.         0.         0.         0.         0.         0.\n",
      " 0.         0.         0.58431375 0.9960785  0.9960785  0.56078434\n",
      " 0.         0.         0.         0.         0.         0.\n",
      " 0.         0.         0.         0.         0.         0.\n",
      " 0.         0.         0.         0.         0.         0.\n",
      " 0.         0.         0.         0.         0.         0.\n",
      " 0.3647059  0.9294118  0.60784316 0.01568628 0.         0.\n",
      " 0.         0.         0.         0.         0.         0.\n",
      " 0.         0.         0.         0.         0.         0.\n",
      " 0.         0.         0.         0.         0.         0.\n",
      " 0.         0.         0.         0.         0.         0.\n",
      " 0.         0.         0.         0.         0.         0.\n",
      " 0.         0.         0.         0.         0.         0.\n",
      " 0.         0.         0.         0.        ]\n",
      "7\n"
     ]
    }
   ],
   "source": [
    "test_epoch_accuracy = tfe.metrics.Accuracy()\n",
    "\n",
    "for batch in mnist.test.next_batch(32):\n",
    "    X_test = tf.reshape(batch[0], (28,28,1))\n",
    "    y_test = batch[1]\n",
    "    # model(X_test)\n",
    "    "
   ]
  },
  {
   "cell_type": "code",
   "execution_count": null,
   "metadata": {},
   "outputs": [],
   "source": []
  }
 ],
 "metadata": {
  "kernelspec": {
   "display_name": "cv",
   "language": "python",
   "name": "cv"
  },
  "language_info": {
   "codemirror_mode": {
    "name": "ipython",
    "version": 3
   },
   "file_extension": ".py",
   "mimetype": "text/x-python",
   "name": "python",
   "nbconvert_exporter": "python",
   "pygments_lexer": "ipython3",
   "version": "3.6.5"
  }
 },
 "nbformat": 4,
 "nbformat_minor": 2
}

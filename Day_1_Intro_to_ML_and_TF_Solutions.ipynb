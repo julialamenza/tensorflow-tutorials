{
  "nbformat": 4,
  "nbformat_minor": 0,
  "metadata": {
    "colab": {
      "name": "Day_1_Intro_to_ML_and_TF_Solutions.ipynb",
      "version": "0.3.2",
      "provenance": []
    },
    "kernelspec": {
      "name": "python3",
      "display_name": "Python 3"
    },
    "accelerator": "GPU"
  },
  "cells": [
    {
      "cell_type": "markdown",
      "metadata": {
        "id": "view-in-github",
        "colab_type": "text"
      },
      "source": [
        "[View in Colaboratory](https://colab.research.google.com/github/sthalles/tensorflow-tutorials/blob/master/Day_1_Intro_to_ML_and_TF_Solutions.ipynb)"
      ]
    },
    {
      "metadata": {
        "id": "EXQHB7VTte3J",
        "colab_type": "text"
      },
      "cell_type": "markdown",
      "source": [
        "# Machine Learning Intro\n",
        "\n",
        "Before getting started, active GPU support: **Runtime** -> **Change runtime type**\n",
        "  - Set Handware Accelerator to **GPU**"
      ]
    },
    {
      "metadata": {
        "id": "ijzHZUHpoV_y",
        "colab_type": "text"
      },
      "cell_type": "markdown",
      "source": [
        "### Using Data to Answer Questions"
      ]
    },
    {
      "metadata": {
        "id": "aMAfw1UpoYLH",
        "colab_type": "code",
        "colab": {}
      },
      "cell_type": "code",
      "source": [
        ""
      ],
      "execution_count": 0,
      "outputs": []
    },
    {
      "metadata": {
        "id": "vNzPC5yrtnIy",
        "colab_type": "text"
      },
      "cell_type": "markdown",
      "source": [
        "## Gradient Descent"
      ]
    },
    {
      "metadata": {
        "id": "_svV-GbBXWB3",
        "colab_type": "text"
      },
      "cell_type": "markdown",
      "source": [
        "Imagine you are on top of a hill and you want to get to its **lowest spot**.\n",
        "\n",
        "Some key observatons:\n",
        "\n",
        "- You do not have a map of the mountain. So you do **NOT** know where is the sweet spot you are looking for.\n",
        "- What if you know the direction that brings your there?\n",
        "\n",
        "![alt text](https://cdn-images-1.medium.com/max/800/1*QEME_QUKOjntJpBBUdgTNA.png)\n",
        "\n",
        "The Gradient is a **vector** os partial derivatives.\n",
        "\n",
        "Each gradient value tells how much a function change if we slightly alter one of its parameters.\n"
      ]
    },
    {
      "metadata": {
        "id": "a_XTNZKYtrW3",
        "colab_type": "text"
      },
      "cell_type": "markdown",
      "source": [
        "## Learning Rate"
      ]
    },
    {
      "metadata": {
        "id": "-TedOpi8uW36",
        "colab_type": "text"
      },
      "cell_type": "markdown",
      "source": [
        "There are various knobs that we can change in order to optimize our ML models. \n",
        "\n",
        "We call these knobs Hyper-parameters and the **Learning Rate** is one of these knobs. Perharps, the most important one.\n",
        "\n",
        "The learning rate controls the rate of learning of your ML algorithm. \n",
        "\n",
        "Using more math terms, the learning rate is a scalar that we **multiply by the Gradient vector**. \n",
        "  - It controls how much of the Gradient Signal, we are going to follow at each step.\n",
        "  \n",
        "Let's see it in action: [Learning Rate Playground](https://developers.google.com/machine-learning/crash-course/fitter/graph)"
      ]
    },
    {
      "metadata": {
        "id": "smurnV0etx8n",
        "colab_type": "text"
      },
      "cell_type": "markdown",
      "source": [
        "# TensorFlow Intro"
      ]
    },
    {
      "metadata": {
        "id": "kbZEM7Jsvzby",
        "colab_type": "text"
      },
      "cell_type": "markdown",
      "source": [
        "Tensorflow is a plataform to build Machine Learning algorithms.\n",
        "\n",
        "More generally, it is a Graph based computation framework.\n",
        "  - It can be used to create any kind of computation (as long as it can be interpreted as a graph)"
      ]
    },
    {
      "metadata": {
        "id": "6O5ZdIOTt9Lf",
        "colab_type": "text"
      },
      "cell_type": "markdown",
      "source": [
        "## Ranks"
      ]
    },
    {
      "metadata": {
        "id": "lPw8wbrh-mZY",
        "colab_type": "text"
      },
      "cell_type": "markdown",
      "source": [
        "![Tensors](https://image.slidesharecdn.com/tensordecomposition-170301235239/95/a-brief-survey-of-tensors-3-638.jpg?cb=1488412458)"
      ]
    },
    {
      "metadata": {
        "id": "WAj7oeqTt-q7",
        "colab_type": "code",
        "colab": {
          "base_uri": "https://localhost:8080/",
          "height": 90
        },
        "outputId": "e5bb3827-93e9-4089-b278-0cc27bfea90a"
      },
      "cell_type": "code",
      "source": [
        "from __future__ import absolute_import\n",
        "from __future__ import division\n",
        "from __future__ import print_function\n",
        "\n",
        "import numpy as np\n",
        "import tensorflow as tf\n",
        "\n",
        "# create different tensors\n",
        "scalar = tf.constant(3.) # just a value\n",
        "one_d_array = tf.constant([4., 5.5, 3]) # a simple array\n",
        "two_d_array = tf.constant([[2., 3.4],[8.,1.0],[2.3,7.5]]) # a matrix like object\n",
        "tensor = tf.constant([[[3.0,9.3]], [[4.3,7.7]]]) # any representation with more than 2 dimentions\n",
        "\n",
        "# Look at the shapes. These are called the Ranks\n",
        "print(scalar)\n",
        "print(one_d_array)\n",
        "print(two_d_array)\n",
        "print(tensor)"
      ],
      "execution_count": 0,
      "outputs": [
        {
          "output_type": "stream",
          "text": [
            "Tensor(\"Const_6:0\", shape=(), dtype=float32)\n",
            "Tensor(\"Const_7:0\", shape=(3,), dtype=float32)\n",
            "Tensor(\"Const_8:0\", shape=(3, 2), dtype=float32)\n",
            "Tensor(\"Const_9:0\", shape=(2, 1, 2), dtype=float32)\n"
          ],
          "name": "stdout"
        }
      ]
    },
    {
      "metadata": {
        "id": "NKL55cl0t3VH",
        "colab_type": "text"
      },
      "cell_type": "markdown",
      "source": [
        "## Graph Execution"
      ]
    },
    {
      "metadata": {
        "id": "k7GUidBNz0GN",
        "colab_type": "text"
      },
      "cell_type": "markdown",
      "source": [
        "Tensorflow graph is a series of operations that are structured as a Graph.\n",
        "\n",
        "A TF Graph contains two types of objects.\n",
        "  - Operations\n",
        "  - Tensors\n",
        "  \n",
        "### Operattions\n",
        "Operations are the node os the graph. It consumes and produces **Tensors** by the means of math opeartions. \n",
        "  \n",
        "### Tensors\n",
        "The Tensors, the **edges** of the graph, are the inputs and outputs of an operation. That is, Tensors are the kind of information that flows through a TF Graph.\n",
        "\n",
        "![Linear Model Graph Example](https://github.com/sthalles/tensorflow-tutorials/blob/master/images/sample_graph.png?raw=true)\n",
        "\n",
        "Note: When we create tensors using Graph execution, these tensors objects are actually **references** to the nodes in the Graph.\n",
        "\n",
        "### Exercise\n",
        "\n",
        "- Use [tf.constant()](https://www.tensorflow.org/versions/master/api_docs/python/tf/constant) to build a simple computational graph. Try *y = a + b*. \n",
        "- Print the result of the tensors. What do you see?"
      ]
    },
    {
      "metadata": {
        "id": "vDEs16jJxoMc",
        "colab_type": "code",
        "colab": {}
      },
      "cell_type": "code",
      "source": [
        "a = tf.constant(2.0)\n",
        "b = tf.constant(3.0, dtype=tf.float32)\n",
        "y = a + b"
      ],
      "execution_count": 0,
      "outputs": []
    },
    {
      "metadata": {
        "id": "LWgm4zNQ7k8V",
        "colab_type": "text"
      },
      "cell_type": "markdown",
      "source": [
        "## Session"
      ]
    },
    {
      "metadata": {
        "id": "Zve3h48E7trt",
        "colab_type": "text"
      },
      "cell_type": "markdown",
      "source": [
        "To run a tensorflow graph and get the actual results of the computational graph, we need a **Session()**."
      ]
    },
    {
      "metadata": {
        "id": "RakouxYm7mCe",
        "colab_type": "code",
        "colab": {
          "base_uri": "https://localhost:8080/",
          "height": 54
        },
        "outputId": "4cbfaa1f-d784-4ca4-c38f-1b51248cd358"
      },
      "cell_type": "code",
      "source": [
        "with tf.Session() as sess:\n",
        "  y_ = sess.run(y) # print out the actual result of the computational graph we built above\n",
        "  print(\"a + b =\", y_)\n",
        "  \n",
        "  # we can pass as many tensors to run as we wish\n",
        "  a_,b_,y_ = sess.run([a,b,y])\n",
        "  print(\"a=%d, b=%d, y=%d\" % (a_,b_,y_))"
      ],
      "execution_count": 0,
      "outputs": [
        {
          "output_type": "stream",
          "text": [
            "a + b = 5.0\n",
            "a=2, b=3, y=5\n"
          ],
          "name": "stdout"
        }
      ]
    },
    {
      "metadata": {
        "id": "sP83PBHe9Jap",
        "colab_type": "text"
      },
      "cell_type": "markdown",
      "source": [
        "When we execute **Session().run()**, Tensorflow backtracks through all **dependent** operations of the running node."
      ]
    },
    {
      "metadata": {
        "id": "Llip2PCFt_Cv",
        "colab_type": "text"
      },
      "cell_type": "markdown",
      "source": [
        "## Placeholders"
      ]
    },
    {
      "metadata": {
        "id": "JMt8zZk0AFDJ",
        "colab_type": "text"
      },
      "cell_type": "markdown",
      "source": [
        "What if we want to pass different values (from outside Tensorflow) to a computational Graph?\n",
        "\n",
        "To do that, Tensorflow provides a special kind of Tensor - the [tf.placeholder()](https://www.tensorflow.org/api_docs/python/tf/placeholder).\n",
        "\n",
        "A placeholder acts as a promise. It promisses to deliver the value assigned to it, when this value is requested.\n",
        "\n",
        "To dinamically feed values to a Tensorflow graph using placeholders, we use **feed_dicts** argument of the **run()** method.\n",
        "\n",
        "Note that the feed_dict can **overwrite any tensor**, not just placeholders.\n",
        "\n",
        "### Exercise\n",
        "- Use [tf.placeholder()](https://www.tensorflow.org/api_docs/python/tf/placeholder) to finish the new version of the computational graph bellow. Try y = a + b.\n",
        "- Try to feed different values to the placeholder. Try to break it. "
      ]
    },
    {
      "metadata": {
        "id": "Bs6s0ZtvuA4B",
        "colab_type": "code",
        "colab": {
          "base_uri": "https://localhost:8080/",
          "height": 54
        },
        "outputId": "e7777078-9e59-40e3-c19f-c44b5419cf07"
      },
      "cell_type": "code",
      "source": [
        "a = tf.placeholder(dtype=tf.float32)\n",
        "b = tf.placeholder(dtype=tf.float32)\n",
        "y = a + b\n",
        "\n",
        "with tf.Session() as sess:\n",
        "  print(sess.run(y, feed_dict={a: 10, b:2}))\n",
        "  print(sess.run(y, feed_dict={a: [1, 3], b: [2, 4]}))"
      ],
      "execution_count": 0,
      "outputs": [
        {
          "output_type": "stream",
          "text": [
            "12.0\n",
            "[3. 7.]\n"
          ],
          "name": "stdout"
        }
      ]
    },
    {
      "metadata": {
        "id": "r9IYjHGbuBSw",
        "colab_type": "text"
      },
      "cell_type": "markdown",
      "source": [
        "## Tensorboard"
      ]
    },
    {
      "metadata": {
        "id": "Ui_f0X32fLLt",
        "colab_type": "text"
      },
      "cell_type": "markdown",
      "source": [
        "[TensorBoard](https://www.tensorflow.org/programmers_guide/summaries_and_tensorboard) is a Tensorflow utility that provides ways of visualizing learning. Some of the functionalities include:\n",
        "1. Model's weights visualization\n",
        "2. Hyperparameters inspection\n",
        "3. Tensorflow Graph inspection"
      ]
    },
    {
      "metadata": {
        "id": "SjprE0CbuFwA",
        "colab_type": "text"
      },
      "cell_type": "markdown",
      "source": [
        "# Linear Regression\n",
        "\n",
        "### Loading data"
      ]
    },
    {
      "metadata": {
        "id": "j0zbeI6NuHMy",
        "colab_type": "code",
        "colab": {
          "resources": {
            "http://localhost:8080/nbextensions/google.colab/files.js": {
              "data": "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",
              "ok": true,
              "headers": [
                [
                  "content-type",
                  "application/javascript"
                ]
              ],
              "status": 200,
              "status_text": ""
            }
          },
          "base_uri": "https://localhost:8080/",
          "height": 91
        },
        "outputId": "dc951424-7d13-4e27-e184-346dccc56b5f"
      },
      "cell_type": "code",
      "source": [
        "# updaload the RealEstate dataset\n",
        "from google.colab import files\n",
        "\n",
        "uploaded = files.upload()\n",
        "\n",
        "for fn in uploaded.keys():\n",
        "  print('User uploaded file \"{name}\" with length {length} bytes'.format(\n",
        "      name=fn, length=len(uploaded[fn])))"
      ],
      "execution_count": 0,
      "outputs": [
        {
          "output_type": "display_data",
          "data": {
            "text/html": [
              "\n",
              "     <input type=\"file\" id=\"files-cbe7b7df-812b-4296-8f22-64e212784a05\" name=\"files[]\" multiple disabled />\n",
              "     <output id=\"result-cbe7b7df-812b-4296-8f22-64e212784a05\">\n",
              "      Upload widget is only available when the cell has been executed in the\n",
              "      current browser session. Please rerun this cell to enable.\n",
              "      </output>\n",
              "      <script src=\"/nbextensions/google.colab/files.js\"></script> "
            ],
            "text/plain": [
              "<IPython.core.display.HTML object>"
            ]
          },
          "metadata": {
            "tags": []
          }
        },
        {
          "output_type": "stream",
          "text": [
            "Saving RealEstate.csv to RealEstate (1).csv\n",
            "User uploaded file \"RealEstate.csv\" with length 45702 bytes\n"
          ],
          "name": "stdout"
        }
      ]
    },
    {
      "metadata": {
        "id": "ZCDWZZUgpd-W",
        "colab_type": "code",
        "colab": {}
      },
      "cell_type": "code",
      "source": [
        "import pandas as pd\n",
        "import numpy as np\n",
        "import matplotlib.pyplot as plt"
      ],
      "execution_count": 0,
      "outputs": []
    },
    {
      "metadata": {
        "id": "HHbKvgReqLLc",
        "colab_type": "text"
      },
      "cell_type": "markdown",
      "source": [
        "We are going to solve the problem of predicting house prices based on historical data. "
      ]
    },
    {
      "metadata": {
        "id": "0gw72MCkpyIe",
        "colab_type": "code",
        "colab": {
          "base_uri": "https://localhost:8080/",
          "height": 198
        },
        "outputId": "2b54fd31-ed7e-45fb-b972-393d870d5ae7"
      },
      "cell_type": "code",
      "source": [
        "housing_data = pd.read_csv(\"RealEstate.csv\")\n",
        "housing_data.head()"
      ],
      "execution_count": 0,
      "outputs": [
        {
          "output_type": "execute_result",
          "data": {
            "text/html": [
              "<div>\n",
              "<style scoped>\n",
              "    .dataframe tbody tr th:only-of-type {\n",
              "        vertical-align: middle;\n",
              "    }\n",
              "\n",
              "    .dataframe tbody tr th {\n",
              "        vertical-align: top;\n",
              "    }\n",
              "\n",
              "    .dataframe thead th {\n",
              "        text-align: right;\n",
              "    }\n",
              "</style>\n",
              "<table border=\"1\" class=\"dataframe\">\n",
              "  <thead>\n",
              "    <tr style=\"text-align: right;\">\n",
              "      <th></th>\n",
              "      <th>MLS</th>\n",
              "      <th>Location</th>\n",
              "      <th>Price</th>\n",
              "      <th>Bedrooms</th>\n",
              "      <th>Bathrooms</th>\n",
              "      <th>Size</th>\n",
              "      <th>Price/SQ.Ft</th>\n",
              "      <th>Status</th>\n",
              "    </tr>\n",
              "  </thead>\n",
              "  <tbody>\n",
              "    <tr>\n",
              "      <th>0</th>\n",
              "      <td>132842</td>\n",
              "      <td>Arroyo Grande</td>\n",
              "      <td>795000.0</td>\n",
              "      <td>3</td>\n",
              "      <td>3</td>\n",
              "      <td>2371</td>\n",
              "      <td>335.30</td>\n",
              "      <td>Short Sale</td>\n",
              "    </tr>\n",
              "    <tr>\n",
              "      <th>1</th>\n",
              "      <td>134364</td>\n",
              "      <td>Paso Robles</td>\n",
              "      <td>399000.0</td>\n",
              "      <td>4</td>\n",
              "      <td>3</td>\n",
              "      <td>2818</td>\n",
              "      <td>141.59</td>\n",
              "      <td>Short Sale</td>\n",
              "    </tr>\n",
              "    <tr>\n",
              "      <th>2</th>\n",
              "      <td>135141</td>\n",
              "      <td>Paso Robles</td>\n",
              "      <td>545000.0</td>\n",
              "      <td>4</td>\n",
              "      <td>3</td>\n",
              "      <td>3032</td>\n",
              "      <td>179.75</td>\n",
              "      <td>Short Sale</td>\n",
              "    </tr>\n",
              "    <tr>\n",
              "      <th>3</th>\n",
              "      <td>135712</td>\n",
              "      <td>Morro Bay</td>\n",
              "      <td>909000.0</td>\n",
              "      <td>4</td>\n",
              "      <td>4</td>\n",
              "      <td>3540</td>\n",
              "      <td>256.78</td>\n",
              "      <td>Short Sale</td>\n",
              "    </tr>\n",
              "    <tr>\n",
              "      <th>4</th>\n",
              "      <td>136282</td>\n",
              "      <td>Santa Maria-Orcutt</td>\n",
              "      <td>109900.0</td>\n",
              "      <td>3</td>\n",
              "      <td>1</td>\n",
              "      <td>1249</td>\n",
              "      <td>87.99</td>\n",
              "      <td>Short Sale</td>\n",
              "    </tr>\n",
              "  </tbody>\n",
              "</table>\n",
              "</div>"
            ],
            "text/plain": [
              "      MLS            Location     Price  Bedrooms  Bathrooms  Size  \\\n",
              "0  132842       Arroyo Grande  795000.0         3          3  2371   \n",
              "1  134364         Paso Robles  399000.0         4          3  2818   \n",
              "2  135141         Paso Robles  545000.0         4          3  3032   \n",
              "3  135712           Morro Bay  909000.0         4          4  3540   \n",
              "4  136282  Santa Maria-Orcutt  109900.0         3          1  1249   \n",
              "\n",
              "   Price/SQ.Ft      Status  \n",
              "0       335.30  Short Sale  \n",
              "1       141.59  Short Sale  \n",
              "2       179.75  Short Sale  \n",
              "3       256.78  Short Sale  \n",
              "4        87.99  Short Sale  "
            ]
          },
          "metadata": {
            "tags": []
          },
          "execution_count": 42
        }
      ]
    },
    {
      "metadata": {
        "id": "nlYIRm-iqHhd",
        "colab_type": "text"
      },
      "cell_type": "markdown",
      "source": [
        "To build a Machine Learning model, we often need at least 3 things. A **problem T**, a performance **measure P**, and an **experience E**, from where our model will learn patterns from."
      ]
    },
    {
      "metadata": {
        "id": "s-_OOc8wqTm-",
        "colab_type": "code",
        "colab": {
          "base_uri": "https://localhost:8080/",
          "height": 288
        },
        "outputId": "f3e5f7e4-a7d7-4db5-98d2-7284e267622c"
      },
      "cell_type": "code",
      "source": [
        "housing_data.describe()"
      ],
      "execution_count": 0,
      "outputs": [
        {
          "output_type": "execute_result",
          "data": {
            "text/html": [
              "<div>\n",
              "<style scoped>\n",
              "    .dataframe tbody tr th:only-of-type {\n",
              "        vertical-align: middle;\n",
              "    }\n",
              "\n",
              "    .dataframe tbody tr th {\n",
              "        vertical-align: top;\n",
              "    }\n",
              "\n",
              "    .dataframe thead th {\n",
              "        text-align: right;\n",
              "    }\n",
              "</style>\n",
              "<table border=\"1\" class=\"dataframe\">\n",
              "  <thead>\n",
              "    <tr style=\"text-align: right;\">\n",
              "      <th></th>\n",
              "      <th>MLS</th>\n",
              "      <th>Price</th>\n",
              "      <th>Bedrooms</th>\n",
              "      <th>Bathrooms</th>\n",
              "      <th>Size</th>\n",
              "      <th>Price/SQ.Ft</th>\n",
              "    </tr>\n",
              "  </thead>\n",
              "  <tbody>\n",
              "    <tr>\n",
              "      <th>count</th>\n",
              "      <td>781.000000</td>\n",
              "      <td>7.810000e+02</td>\n",
              "      <td>781.000000</td>\n",
              "      <td>781.000000</td>\n",
              "      <td>781.000000</td>\n",
              "      <td>781.000000</td>\n",
              "    </tr>\n",
              "    <tr>\n",
              "      <th>mean</th>\n",
              "      <td>151224.550576</td>\n",
              "      <td>3.833291e+05</td>\n",
              "      <td>3.142125</td>\n",
              "      <td>2.355954</td>\n",
              "      <td>1755.058899</td>\n",
              "      <td>213.131293</td>\n",
              "    </tr>\n",
              "    <tr>\n",
              "      <th>std</th>\n",
              "      <td>3936.122042</td>\n",
              "      <td>3.490381e+05</td>\n",
              "      <td>0.855768</td>\n",
              "      <td>0.846596</td>\n",
              "      <td>819.577603</td>\n",
              "      <td>115.082146</td>\n",
              "    </tr>\n",
              "    <tr>\n",
              "      <th>min</th>\n",
              "      <td>132842.000000</td>\n",
              "      <td>2.650000e+04</td>\n",
              "      <td>0.000000</td>\n",
              "      <td>1.000000</td>\n",
              "      <td>120.000000</td>\n",
              "      <td>19.330000</td>\n",
              "    </tr>\n",
              "    <tr>\n",
              "      <th>25%</th>\n",
              "      <td>149922.000000</td>\n",
              "      <td>1.990000e+05</td>\n",
              "      <td>3.000000</td>\n",
              "      <td>2.000000</td>\n",
              "      <td>1218.000000</td>\n",
              "      <td>142.140000</td>\n",
              "    </tr>\n",
              "    <tr>\n",
              "      <th>50%</th>\n",
              "      <td>152581.000000</td>\n",
              "      <td>2.950000e+05</td>\n",
              "      <td>3.000000</td>\n",
              "      <td>2.000000</td>\n",
              "      <td>1550.000000</td>\n",
              "      <td>188.360000</td>\n",
              "    </tr>\n",
              "    <tr>\n",
              "      <th>75%</th>\n",
              "      <td>154167.000000</td>\n",
              "      <td>4.290000e+05</td>\n",
              "      <td>4.000000</td>\n",
              "      <td>3.000000</td>\n",
              "      <td>2032.000000</td>\n",
              "      <td>245.420000</td>\n",
              "    </tr>\n",
              "    <tr>\n",
              "      <th>max</th>\n",
              "      <td>154580.000000</td>\n",
              "      <td>5.499000e+06</td>\n",
              "      <td>10.000000</td>\n",
              "      <td>11.000000</td>\n",
              "      <td>6800.000000</td>\n",
              "      <td>1144.640000</td>\n",
              "    </tr>\n",
              "  </tbody>\n",
              "</table>\n",
              "</div>"
            ],
            "text/plain": [
              "                 MLS         Price    Bedrooms   Bathrooms         Size  \\\n",
              "count     781.000000  7.810000e+02  781.000000  781.000000   781.000000   \n",
              "mean   151224.550576  3.833291e+05    3.142125    2.355954  1755.058899   \n",
              "std      3936.122042  3.490381e+05    0.855768    0.846596   819.577603   \n",
              "min    132842.000000  2.650000e+04    0.000000    1.000000   120.000000   \n",
              "25%    149922.000000  1.990000e+05    3.000000    2.000000  1218.000000   \n",
              "50%    152581.000000  2.950000e+05    3.000000    2.000000  1550.000000   \n",
              "75%    154167.000000  4.290000e+05    4.000000    3.000000  2032.000000   \n",
              "max    154580.000000  5.499000e+06   10.000000   11.000000  6800.000000   \n",
              "\n",
              "       Price/SQ.Ft  \n",
              "count   781.000000  \n",
              "mean    213.131293  \n",
              "std     115.082146  \n",
              "min      19.330000  \n",
              "25%     142.140000  \n",
              "50%     188.360000  \n",
              "75%     245.420000  \n",
              "max    1144.640000  "
            ]
          },
          "metadata": {
            "tags": []
          },
          "execution_count": 43
        }
      ]
    },
    {
      "metadata": {
        "id": "4EzMLA89Gs7n",
        "colab_type": "text"
      },
      "cell_type": "markdown",
      "source": [
        "### Preparing data"
      ]
    },
    {
      "metadata": {
        "id": "gYVbjdg-qi7m",
        "colab_type": "code",
        "colab": {
          "base_uri": "https://localhost:8080/",
          "height": 420
        },
        "outputId": "a66d3a65-9a74-4b8d-83e8-0eda86b3add9"
      },
      "cell_type": "code",
      "source": [
        "# only get the Size and the Price features\n",
        "Xs = housing_data[['Size']]\n",
        "Ys = housing_data[['Price']]\n",
        "print(\"Size shape:\", Xs.shape)\n",
        "print(\"Price shape:\", Ys.shape)\n",
        "dataset_size = Xs.shape[0]\n",
        "print(\"Size:\", dataset_size)\n",
        "\n",
        "# plot the price and the size\n",
        "plt.plot(Xs, Ys, 'ro')"
      ],
      "execution_count": 0,
      "outputs": [
        {
          "output_type": "stream",
          "text": [
            "Size shape: (781, 1)\n",
            "Price shape: (781, 1)\n",
            "Size: 781\n"
          ],
          "name": "stdout"
        },
        {
          "output_type": "execute_result",
          "data": {
            "text/plain": [
              "[<matplotlib.lines.Line2D at 0x7f6d60dcf400>]"
            ]
          },
          "metadata": {
            "tags": []
          },
          "execution_count": 79
        },
        {
          "output_type": "display_data",
          "data": {
            "image/png": "[encoded data removed]",
            "text/plain": [
              "<matplotlib.figure.Figure at 0x7f6d60e08128>"
            ]
          },
          "metadata": {
            "tags": []
          }
        }
      ]
    },
    {
      "metadata": {
        "id": "9VPFTuCpGx83",
        "colab_type": "text"
      },
      "cell_type": "markdown",
      "source": [
        "### Normalization"
      ]
    },
    {
      "metadata": {
        "id": "uXYA9zWysxT9",
        "colab_type": "code",
        "colab": {}
      },
      "cell_type": "code",
      "source": [
        "Xs = Xs.values\n",
        "Ys = Ys.values\n",
        "\n",
        "# Normalize the input features# Norma \n",
        "max_size = np.max(Xs)\n",
        "min_size = np.min(Xs)\n",
        "max_price = np.max(Ys)\n",
        "min_price = np.min(Ys)\n",
        "\n",
        "Xs = (Xs - min_size) / (max_size - min_size)\n",
        "Ys = (Ys - min_price) / (max_price - min_price)\n",
        "\n",
        "# shuffle the dataset before separating test/train sets\n",
        "p = np.random.permutation(len(Xs))\n",
        "Xs = Xs[p]\n",
        "Ys = Ys[p]"
      ],
      "execution_count": 0,
      "outputs": []
    },
    {
      "metadata": {
        "id": "n-A-UuXhGv19",
        "colab_type": "text"
      },
      "cell_type": "markdown",
      "source": [
        "### Cross validation"
      ]
    },
    {
      "metadata": {
        "id": "eJAolOnar_kX",
        "colab_type": "code",
        "colab": {
          "base_uri": "https://localhost:8080/",
          "height": 418
        },
        "outputId": "e2b98e19-7402-4748-9817-2365281fd222"
      },
      "cell_type": "code",
      "source": [
        "# separate train/test sets \n",
        "# Use 80% for training and 20% for testing\n",
        "train_size = int(0.8 * dataset_size)\n",
        "Xs_train = Xs[0:train_size]\n",
        "Xs_test = Xs[train_size:]\n",
        "Ys_train = Ys[0:train_size]\n",
        "Ys_test = Ys[train_size:]\n",
        "\n",
        "min_x = np.min(Xs_train)\n",
        "max_x = np.max(Xs_train)\n",
        "\n",
        "# plot the price and the size\n",
        "fig = plt.figure()\n",
        "fig.suptitle('Normalized housing Size/Price dataset', fontsize=14, fontweight='bold')\n",
        "ax = fig.add_subplot(111)\n",
        "fig.subplots_adjust(top=0.85)\n",
        "ax.plot(Xs_train, Ys_train, 'ro')\n",
        "ax.set_xlabel('Size')\n",
        "ax.set_ylabel('Price')"
      ],
      "execution_count": 0,
      "outputs": [
        {
          "output_type": "execute_result",
          "data": {
            "text/plain": [
              "Text(0,0.5,'Price')"
            ]
          },
          "metadata": {
            "tags": []
          },
          "execution_count": 110
        },
        {
          "output_type": "display_data",
          "data": {
            "image/png": "[encoded data removed]",
            "text/plain": [
              "<matplotlib.figure.Figure at 0x7f6d6040ea20>"
            ]
          },
          "metadata": {
            "tags": []
          }
        }
      ]
    },
    {
      "metadata": {
        "id": "BuarbqyF__t0",
        "colab_type": "text"
      },
      "cell_type": "markdown",
      "source": [
        "### Placeholders and Variables\n",
        "\n",
        "#### Exercise:\n",
        "\n",
        "1. Use [tf.placeholder()](https://www.tensorflow.org/api_docs/python/tf/placeholder) to build the two placeholders necessary for feeding the housing data into the Tensorflow Model.\n",
        "2. Use [tf.Variable()](https://www.tensorflow.org/api_docs/python/tf/Variable) to craete the two necessary variables for a Linear Model - *Hint: slop and y-intercept*"
      ]
    },
    {
      "metadata": {
        "id": "ExALaYu-uTZF",
        "colab_type": "code",
        "colab": {
          "base_uri": "https://localhost:8080/",
          "height": 54
        },
        "outputId": "927a71b7-8272-426c-8c5b-f62ba439019b"
      },
      "cell_type": "code",
      "source": [
        "inputs = tf.placeholder(shape=[None,1], dtype=tf.float32, name=\"inputs\")\n",
        "labels = tf.placeholder(dtype=tf.float32, name=\"labels\")\n",
        "print(inputs)\n",
        "print(labels)"
      ],
      "execution_count": 0,
      "outputs": [
        {
          "output_type": "stream",
          "text": [
            "Tensor(\"inputs_1:0\", shape=(?, 1), dtype=float32)\n",
            "Tensor(\"labels_1:0\", dtype=float32)\n"
          ],
          "name": "stdout"
        }
      ]
    },
    {
      "metadata": {
        "id": "1Lo-CppoqyN5",
        "colab_type": "code",
        "colab": {
          "base_uri": "https://localhost:8080/",
          "height": 54
        },
        "outputId": "409ccb06-51bf-4907-e46e-2a6a125b3ee4"
      },
      "cell_type": "code",
      "source": [
        "y_intercept = tf.Variable(tf.random_normal(shape=[1], mean=0, stddev=0.02), name=\"y-intercept\")\n",
        "slope = tf.Variable(tf.random_normal(shape=[1,1], mean=0, stddev=0.02), name=\"slope\")\n",
        "print(y_intercept)\n",
        "print(slope)"
      ],
      "execution_count": 0,
      "outputs": [
        {
          "output_type": "stream",
          "text": [
            "<tf.Variable 'y-intercept_1:0' shape=(1,) dtype=float32_ref>\n",
            "<tf.Variable 'slope_1:0' shape=(1, 1) dtype=float32_ref>\n"
          ],
          "name": "stdout"
        }
      ]
    },
    {
      "metadata": {
        "id": "HsYimvQdG3va",
        "colab_type": "text"
      },
      "cell_type": "markdown",
      "source": [
        "### Building the Model"
      ]
    },
    {
      "metadata": {
        "id": "EOTHoFdf_T4x",
        "colab_type": "text"
      },
      "cell_type": "markdown",
      "source": [
        "**Exercise**\n",
        "\n",
        "1- Build a linear model following the equation bellow.\n",
        "\n",
        "![alt text](https://cdn-images-1.medium.com/max/800/1*SuNmDkv0qNJbKGZoEoGBmw.png)"
      ]
    },
    {
      "metadata": {
        "id": "UtzDgJc6u4DM",
        "colab_type": "code",
        "colab": {}
      },
      "cell_type": "code",
      "source": [
        "def model(X):\n",
        "  return tf.matmul(X,slope) + y_intercept\n",
        "predictions = model(inputs)"
      ],
      "execution_count": 0,
      "outputs": []
    },
    {
      "metadata": {
        "id": "1A9Rh624_MiL",
        "colab_type": "text"
      },
      "cell_type": "markdown",
      "source": [
        "### Hyper-parameters\n",
        "\n",
        "#### Exercise:\n",
        "1. Tune the hyper-parameters"
      ]
    },
    {
      "metadata": {
        "id": "ZghXH3pb1BXU",
        "colab_type": "code",
        "colab": {}
      },
      "cell_type": "code",
      "source": [
        "# defines the size of the step we want to perform in the direction of the gradient# define \n",
        "lr = 0.3\n",
        "batch_size = 96\n",
        "total_epochs = 25"
      ],
      "execution_count": 0,
      "outputs": []
    },
    {
      "metadata": {
        "id": "tUl1ra1F--se",
        "colab_type": "text"
      },
      "cell_type": "markdown",
      "source": [
        "![alt text](https://cdn-images-1.medium.com/max/800/1*GQ6vjZ9j0K5V7BReHywWAA.png)"
      ]
    },
    {
      "metadata": {
        "id": "odKT25Ee_7eO",
        "colab_type": "text"
      },
      "cell_type": "markdown",
      "source": [
        "### Loss Function and Convex Optimization\n",
        "\n",
        "- The loss function, also called the objective, is a method for evaluating how good our model is. Remember, the goal of any ML algorithm is to make the loss as low as possible.\n",
        "- The optimization function is responsible for minimizing the loss. It does it using Gradient Descent. Basically at each time steps, the it computes the Gradient of the loss function (MSE) with respect to the Weights (slop and bias) and take a step in the opposite direction of this gradient.\n",
        "\n",
        "#### Exercise:\n",
        "\n",
        "1. Use [tf.losses.mean_squared_error()](https://www.tensorflow.org/api_docs/python/tf/losses/mean_squared_error) to compute the loss between the prediction values and the true (target) values.\n",
        "2. Use [tf.train.GradientDescentOptimizer()](https://www.tensorflow.org/api_docs/python/tf/train/GradientDescentOptimizer) to compute the Gradients and minimize the loss function."
      ]
    },
    {
      "metadata": {
        "id": "ciIWm6zgq9iv",
        "colab_type": "code",
        "colab": {}
      },
      "cell_type": "code",
      "source": [
        "loss = tf.losses.mean_squared_error(\n",
        "    labels=labels,\n",
        "    predictions=predictions)\n",
        "\n",
        "optimizer = tf.train.GradientDescentOptimizer(learning_rate=lr).minimize(loss)"
      ],
      "execution_count": 0,
      "outputs": []
    },
    {
      "metadata": {
        "id": "IDYokKnJ_dS8",
        "colab_type": "text"
      },
      "cell_type": "markdown",
      "source": [
        "![alt text](https://cdn-images-1.medium.com/max/800/1*J-TbI94E1nXNHIubJc7VeQ.png)"
      ]
    },
    {
      "metadata": {
        "id": "6hQL0bchw-Wn",
        "colab_type": "code",
        "colab": {}
      },
      "cell_type": "code",
      "source": [
        "## DO NOT CHANGE\n",
        "def next_batch(Xs, Ys, batch_size=64):\n",
        "    p = np.random.permutation(len(Xs))\n",
        "    Xs = Xs[p]\n",
        "    Ys = Ys[p]\n",
        "    for i in range(0,Xs.shape[0],batch_size):\n",
        "        x_batch = Xs[i:i+batch_size]\n",
        "        if x_batch.shape[0] < batch_size:\n",
        "            continue\n",
        "        yield np.reshape(x_batch, (batch_size,-1)), Ys[i:i+batch_size]"
      ],
      "execution_count": 0,
      "outputs": []
    },
    {
      "metadata": {
        "id": "i3TXqbTVzito",
        "colab_type": "code",
        "colab": {}
      },
      "cell_type": "code",
      "source": [
        "## DO NOT CHANGE\n",
        "def eval_and_plot(W0, W1, min_x, max_x, id_):\n",
        "    min_y = W0 + np.dot(W1, min_x)\n",
        "    max_y = W0 + np.dot(W1, max_x)\n",
        "\n",
        "    plt.plot(Xs_train, Ys_train, 'ro')\n",
        "    plt.plot([min_x, max_x], [min_y.squeeze(), max_y.squeeze()], 'k-', lw=2)\n",
        "    #plt.savefig(\"./media/fit%(number)04d.png\" % {\"number\": id_})\n",
        "    #plt.clf()\n",
        "    plt.show()"
      ],
      "execution_count": 0,
      "outputs": []
    },
    {
      "metadata": {
        "id": "f0pNHIrdIKGz",
        "colab_type": "text"
      },
      "cell_type": "markdown",
      "source": [
        "**Exercise:**\n",
        "\n",
        "\n",
        "1.   Finish the training loop bellow. Make sure you run the *optimizer* Tensor.\n",
        "2.   Fetch and display the *training* and *generalization* losses.\n",
        "\n"
      ]
    },
    {
      "metadata": {
        "id": "FE2uGdotvcye",
        "colab_type": "code",
        "colab": {
          "base_uri": "https://localhost:8080/",
          "height": 802
        },
        "outputId": "8c933383-9500-4d34-e044-1ffd16b61f85"
      },
      "cell_type": "code",
      "source": [
        "training_loss = []\n",
        "generalization_loss =[]\n",
        "\n",
        "with tf.Session() as sess:\n",
        "  sess.run(tf.global_variables_initializer())\n",
        "  \n",
        "  for epoch in range(total_epochs):\n",
        "  \n",
        "    for X_batch, y_batch in next_batch(Xs_train, Ys_train, batch_size):\n",
        "      _, train_loss = sess.run([optimizer, loss], \n",
        "                            feed_dict={inputs:X_batch, labels:y_batch})\n",
        "    training_loss.append(train_loss)\n",
        "    val_pred, val_loss, m, y = sess.run([predictions, loss, slope, y_intercept], \n",
        "                                  feed_dict={inputs: Xs_test, labels:Ys_test})\n",
        "    \n",
        "    generalization_loss.append(val_loss)\n",
        "    print(\"Epoch:\", epoch, \"Generalization error:\", val_loss)\n",
        "    \n",
        "eval_and_plot(y,m,min_x,max_x,epoch)"
      ],
      "execution_count": 0,
      "outputs": [
        {
          "output_type": "stream",
          "text": [
            "Epoch: 0 Generalization error: 0.008854917\n",
            "Epoch: 1 Generalization error: 0.008604389\n",
            "Epoch: 2 Generalization error: 0.008372608\n",
            "Epoch: 3 Generalization error: 0.008161256\n",
            "Epoch: 4 Generalization error: 0.007992199\n",
            "Epoch: 5 Generalization error: 0.007806665\n",
            "Epoch: 6 Generalization error: 0.007649894\n",
            "Epoch: 7 Generalization error: 0.0074950615\n",
            "Epoch: 8 Generalization error: 0.007376825\n",
            "Epoch: 9 Generalization error: 0.007300561\n",
            "Epoch: 10 Generalization error: 0.0071328827\n",
            "Epoch: 11 Generalization error: 0.007014633\n",
            "Epoch: 12 Generalization error: 0.0069648246\n",
            "Epoch: 13 Generalization error: 0.0068598157\n",
            "Epoch: 14 Generalization error: 0.0067797867\n",
            "Epoch: 15 Generalization error: 0.00670243\n",
            "Epoch: 16 Generalization error: 0.0066599734\n",
            "Epoch: 17 Generalization error: 0.006535943\n",
            "Epoch: 18 Generalization error: 0.0065309294\n",
            "Epoch: 19 Generalization error: 0.0064614653\n",
            "Epoch: 20 Generalization error: 0.0064428765\n",
            "Epoch: 21 Generalization error: 0.00628347\n",
            "Epoch: 22 Generalization error: 0.0062692766\n",
            "Epoch: 23 Generalization error: 0.0062130513\n",
            "Epoch: 24 Generalization error: 0.0061774673\n"
          ],
          "name": "stdout"
        },
        {
          "output_type": "display_data",
          "data": {
            "image/png": "[encoded data removed]",
            "text/plain": [
              "<matplotlib.figure.Figure at 0x7f6d5e26ae80>"
            ]
          },
          "metadata": {
            "tags": []
          }
        }
      ]
    },
    {
      "metadata": {
        "id": "BxRF-CYBAt5g",
        "colab_type": "code",
        "colab": {
          "base_uri": "https://localhost:8080/",
          "height": 361
        },
        "outputId": "baca9c85-861b-41ff-a16e-e4ae026c75d2"
      },
      "cell_type": "code",
      "source": [
        "# plot the price and the size\n",
        "plt.plot(training_loss, label=\"validation\")\n",
        "plt.plot(generalization_loss, label=\"training\")\n",
        "plt.xlabel('Epoch')\n",
        "plt.ylabel('Error')\n",
        "plt.show()"
      ],
      "execution_count": 0,
      "outputs": [
        {
          "output_type": "display_data",
          "data": {
            "image/png": "[encoded data removed]",
            "text/plain": [
              "<matplotlib.figure.Figure at 0x7f6d5ee9f198>"
            ]
          },
          "metadata": {
            "tags": []
          }
        }
      ]
    },
    {
      "metadata": {
        "id": "eglK4edYgdRg",
        "colab_type": "code",
        "colab": {}
      },
      "cell_type": "code",
      "source": [
        ""
      ],
      "execution_count": 0,
      "outputs": []
    }
  ]
}
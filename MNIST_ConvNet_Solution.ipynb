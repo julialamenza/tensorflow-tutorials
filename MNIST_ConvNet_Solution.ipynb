{
  "nbformat": 4,
  "nbformat_minor": 0,
  "metadata": {
    "colab": {
      "name": "MNIST_ConvNet_Solution.ipynb",
      "version": "0.3.2",
      "provenance": [],
      "collapsed_sections": []
    },
    "kernelspec": {
      "name": "python3",
      "display_name": "Python 3"
    },
    "accelerator": "GPU"
  },
  "cells": [
    {
      "cell_type": "markdown",
      "metadata": {
        "id": "view-in-github",
        "colab_type": "text"
      },
      "source": [
        "[View in Colaboratory](https://colab.research.google.com/github/sthalles/tensorflow-tutorials/blob/master/MNIST_ConvNet_Solution.ipynb)"
      ]
    },
    {
      "metadata": {
        "id": "AfR0x2u-65MY",
        "colab_type": "code",
        "colab": {
          "base_uri": "https://localhost:8080/",
          "height": 35
        },
        "outputId": "80050cb2-f18a-4ec7-ddab-eb33e0251f26"
      },
      "cell_type": "code",
      "source": [
        "import tensorflow as tf\n",
        "import numpy as np\n",
        "import matplotlib.pyplot as plt\n",
        "from mpl_toolkits.axes_grid1 import ImageGrid\n",
        "from tensorflow.examples.tutorials.mnist import input_data\n",
        "from keras.datasets import mnist\n",
        "from sklearn.model_selection import train_test_split\n",
        "from sklearn.metrics import accuracy_score\n",
        "import keras"
      ],
      "execution_count": 1,
      "outputs": [
        {
          "output_type": "stream",
          "text": [
            "Using TensorFlow backend.\n"
          ],
          "name": "stderr"
        }
      ]
    },
    {
      "metadata": {
        "id": "Fdqa3b6N723r",
        "colab_type": "code",
        "colab": {}
      },
      "cell_type": "code",
      "source": [
        "# Enable eager execution mode\n",
        "tfe = tf.contrib.eager\n",
        "tf.enable_eager_execution()"
      ],
      "execution_count": 0,
      "outputs": []
    },
    {
      "metadata": {
        "id": "mivD5CTu65Mg",
        "colab_type": "code",
        "colab": {
          "base_uri": "https://localhost:8080/",
          "height": 35
        },
        "outputId": "8a242452-1e8c-436a-b779-2c91a70d013e"
      },
      "cell_type": "code",
      "source": [
        "if tf.executing_eagerly():\n",
        "    print(\"Eager is Enabled!\")"
      ],
      "execution_count": 3,
      "outputs": [
        {
          "output_type": "stream",
          "text": [
            "Eager is Enabled!\n"
          ],
          "name": "stdout"
        }
      ]
    },
    {
      "metadata": {
        "id": "UaY0efbWBjWj",
        "colab_type": "text"
      },
      "cell_type": "markdown",
      "source": [
        "# Download and Normalize the Training data"
      ]
    },
    {
      "metadata": {
        "id": "KQWMGeGGKiB1",
        "colab_type": "text"
      },
      "cell_type": "markdown",
      "source": [
        "![alt text](https://www.tensorflow.org/versions/r1.1/images/MNIST-Matrix.png)"
      ]
    },
    {
      "metadata": {
        "id": "ymF2hVMZ8Zd1",
        "colab_type": "code",
        "colab": {}
      },
      "cell_type": "code",
      "source": [
        "(X_train, y_train), (X_test, y_test) = mnist.load_data()\n",
        "X_train, X_val, y_train, y_val = train_test_split(X_train, y_train, test_size=0.2, random_state=42)"
      ],
      "execution_count": 0,
      "outputs": []
    },
    {
      "metadata": {
        "id": "LcaAcJGw65Mn",
        "colab_type": "text"
      },
      "cell_type": "markdown",
      "source": [
        "## Load MNIST data"
      ]
    },
    {
      "metadata": {
        "id": "vNcZQSOx65Ms",
        "colab_type": "text"
      },
      "cell_type": "markdown",
      "source": [
        "# Visualize the dataset Shape and Stats"
      ]
    },
    {
      "metadata": {
        "id": "ltddY8_A65Mt",
        "colab_type": "code",
        "colab": {
          "base_uri": "https://localhost:8080/",
          "height": 126
        },
        "outputId": "e7ad5a32-54bf-4b66-a81d-c4cf4b048d58"
      },
      "cell_type": "code",
      "source": [
        "print(\"Train shape:\", X_train.shape)\n",
        "print(\"Train labels:\", y_train.shape)\n",
        "print(\"Validation shape:\", X_val.shape)\n",
        "print(\"Validation labels:\", y_val.shape)\n",
        "print(\"Test shape:\", X_test.shape)\n",
        "print(\"Test labels:\", y_test.shape)"
      ],
      "execution_count": 5,
      "outputs": [
        {
          "output_type": "stream",
          "text": [
            "Train shape: (48000, 28, 28)\n",
            "Train labels: (48000,)\n",
            "Validation shape: (12000, 28, 28)\n",
            "Validation labels: (12000,)\n",
            "Test shape: (10000, 28, 28)\n",
            "Test labels: (10000,)\n"
          ],
          "name": "stdout"
        }
      ]
    },
    {
      "metadata": {
        "id": "o3JnPP0vB5gF",
        "colab_type": "code",
        "colab": {}
      },
      "cell_type": "code",
      "source": [
        "def normalizer(image, label):\n",
        "  return tf.to_float(image) / 255., label"
      ],
      "execution_count": 0,
      "outputs": []
    },
    {
      "metadata": {
        "id": "UZQtKc7_65Mw",
        "colab_type": "code",
        "colab": {
          "base_uri": "https://localhost:8080/",
          "height": 412
        },
        "outputId": "42608da3-afaa-41f3-8004-6997c1c09e00"
      },
      "cell_type": "code",
      "source": [
        "import pylab as P\n",
        "n, bins, patches = P.hist(y_train, bins=10, histtype=\"bar\", rwidth=0.8)\n",
        "print(\"Train:\", n)\n",
        "n, bins, patches = P.hist(y_test, bins=10, histtype=\"bar\", rwidth=0.8 )\n",
        "print(\"Test:\", n)\n",
        "P.xlabel('Classes')\n",
        "P.ylabel('Distribution')\n",
        "P.title('Train/Test distribution')\n",
        "P.show()"
      ],
      "execution_count": 7,
      "outputs": [
        {
          "output_type": "stream",
          "text": [
            "Train: [4748. 5420. 4784. 4912. 4666. 4317. 4741. 4966. 4691. 4755.]\n",
            "Test: [ 980. 1135. 1032. 1010.  982.  892.  958. 1028.  974. 1009.]\n"
          ],
          "name": "stdout"
        },
        {
          "output_type": "display_data",
          "data": {
            "image/png": "[encoded data removed]",
            "text/plain": [
              "<matplotlib.figure.Figure at 0x7f3dbbca1668>"
            ]
          },
          "metadata": {
            "tags": []
          }
        }
      ]
    },
    {
      "metadata": {
        "id": "5C_DYDAE65Mz",
        "colab_type": "code",
        "colab": {
          "base_uri": "https://localhost:8080/",
          "height": 90
        },
        "outputId": "c6c89774-b6c5-45fe-9f20-a07a6b47b5b3"
      },
      "cell_type": "code",
      "source": [
        "print(\"Max value:\", np.max(X_train[0]))\n",
        "print(\"Min value:\", np.min(X_train[0]))\n",
        "print(\"Mean:\", np.mean(X_train[0]))\n",
        "print(\"Std:\", np.std(X_train[0]))"
      ],
      "execution_count": 8,
      "outputs": [
        {
          "output_type": "stream",
          "text": [
            "Max value: 255\n",
            "Min value: 0\n",
            "Mean: 32.81887755102041\n",
            "Std: 76.27195468984321\n"
          ],
          "name": "stdout"
        }
      ]
    },
    {
      "metadata": {
        "id": "Hln7rscN65M2",
        "colab_type": "text"
      },
      "cell_type": "markdown",
      "source": [
        "## Visualize some MNIST images"
      ]
    },
    {
      "metadata": {
        "id": "w0HpFtdF65M2",
        "colab_type": "code",
        "colab": {
          "base_uri": "https://localhost:8080/",
          "height": 377
        },
        "outputId": "b94f46e1-870c-4244-e2d5-8969405b0d97"
      },
      "cell_type": "code",
      "source": [
        "fig = plt.figure(1, (6., 6.))\n",
        "grid = ImageGrid(fig, 111,  # similar to subplot(111)\n",
        "                 nrows_ncols=(4, 4),  # creates 2x2 grid of axes\n",
        "                 axes_pad=0.1,  # pad between axes in inch.\n",
        "                 )\n",
        "\n",
        "for i in range(16):\n",
        "    grid[i].imshow(X_train[i], cmap=\"gray\")  # The AxesGrid object work as a list of axes.\n",
        "\n",
        "plt.show()"
      ],
      "execution_count": 9,
      "outputs": [
        {
          "output_type": "display_data",
          "data": {
            "image/png": "[encoded data removed]",
            "text/plain": [
              "<matplotlib.figure.Figure at 0x7f3dbbc8b710>"
            ]
          },
          "metadata": {
            "tags": []
          }
        }
      ]
    },
    {
      "metadata": {
        "id": "GD40dOS165M6",
        "colab_type": "text"
      },
      "cell_type": "markdown",
      "source": [
        "## Building Tensorflow Model"
      ]
    },
    {
      "metadata": {
        "id": "TtwfoK4X65M7",
        "colab_type": "text"
      },
      "cell_type": "markdown",
      "source": [
        "Build your Conv Neural Net. The basic architecture follows a simple sequence of operations.\n",
        "1- Convolution\n",
        "2- Activation function\n",
        "3- Pooling functions\n",
        "\n",
        "In the end, we usually apply some fully-connected layers to build the classification layer.\n",
        "\n",
        "Refer to these links for full documentations:\n",
        "\n",
        "- [Keras Conv2D](https://www.tensorflow.org/api_docs/python/tf/keras/layers/Conv2D)\n",
        "- [Keras MaxPool2D](https://www.tensorflow.org/api_docs/python/tf/keras/layers/MaxPool2D)\n",
        "\n",
        "\n",
        "![LeNet-5](https://world4jason.gitbooks.io/research-log/content/deepLearning/CNN/img/lenet.png)\n",
        "\n",
        "![Convolution](http://deeplearning.net/software/theano/_images/numerical_padding_strides.gif)"
      ]
    },
    {
      "metadata": {
        "id": "aJwsbTjl65M8",
        "colab_type": "code",
        "colab": {}
      },
      "cell_type": "code",
      "source": [
        "class MNISTModel(tf.keras.Model):\n",
        "    \n",
        "    def __init__(self):\n",
        "        super(MNISTModel, self).__init__()\n",
        "        self.conv1 = tf.keras.layers.Conv2D(filters=32, kernel_size=3, strides=(1, 1),\n",
        "                                            padding='same', activation=tf.nn.relu, use_bias=True)\n",
        "        self.pool1 = tf.keras.layers.MaxPool2D(pool_size=2, strides=2, padding=\"same\")\n",
        "        self.flatten = tf.layers.Flatten()\n",
        "        self.fc1 = tf.keras.layers.Dense(units=128, activation=tf.nn.relu)\n",
        "        self.logits = tf.keras.layers.Dense(units=10)\n",
        "\n",
        "    def call(self, inputs):\n",
        "        conv1 = self.conv1(inputs)\n",
        "        pool1 = self.pool1(conv1)\n",
        "        flat = self.flatten(pool1)\n",
        "        fc1 = self.fc1(flat)\n",
        "        logits = self.logits(fc1)\n",
        "        return logits"
      ],
      "execution_count": 0,
      "outputs": []
    },
    {
      "metadata": {
        "id": "zuCA-haQNTsu",
        "colab_type": "text"
      },
      "cell_type": "markdown",
      "source": [
        "The loss function is responsible for calculating how good/bad our classifier is doing. For multiclass problems, we usually use the cross-entropy function.\n",
        "\n",
        "![One-hot encodding representation](https://encrypted-tbn0.gstatic.com/images?q=tbn:ANd9GcRRo9fhLj8UpmziNvD_eifQ3SkjybaaGmlfLd5Z2fsDn3XaASUoWw)"
      ]
    },
    {
      "metadata": {
        "id": "Mae8x2hL65NB",
        "colab_type": "code",
        "colab": {}
      },
      "cell_type": "code",
      "source": [
        "def loss(logits, labels):\n",
        "    labels_one_hot = tf.one_hot(labels, 10)\n",
        "    cross_entropy = tf.nn.softmax_cross_entropy_with_logits_v2(labels=labels_one_hot, logits=logits)\n",
        "    return tf.reduce_mean(cross_entropy)"
      ],
      "execution_count": 0,
      "outputs": []
    },
    {
      "metadata": {
        "id": "dBp6U-eDJLhg",
        "colab_type": "text"
      },
      "cell_type": "markdown",
      "source": [
        "# Optimizers\n",
        "\n",
        "The Optimizer is the algorithm responsible for applying the gradients to the Model's weight variables. Imagine a curved surface (just an example), the goal is to find the minimal value of that surface. The Gradient points to the direction of **steepest ascent**. Thus, we follow the opposite direction of the gradient (**steepest descent**), so we hopefully can find the minimum value of the error surface.\n",
        "\n",
        "- **AdadeltaOptimizer**: Optimizer that implements the Adadelta algorithm.\n",
        "\n",
        "- **AdagradOptimizer**: Optimizer that implements the Adagrad algorithm.\n",
        "\n",
        "- **AdamOptimizer**: Optimizer that implements the Adam algorithm.\n",
        "\n",
        "- **GradientDescentOptimizer**: Optimizer that implements the gradient descent algorithm.\n",
        "\n",
        "- **MomentumOptimizer**: Optimizer that implements the Momentum algorithm.\n",
        "\n",
        "[Tensorflow Build-in Optimizers](https://www.tensorflow.org/versions/r1.2/api_docs/python/tf/train)\n"
      ]
    },
    {
      "metadata": {
        "id": "986czgX1GqWC",
        "colab_type": "text"
      },
      "cell_type": "markdown",
      "source": [
        "![alt text](https://cs231n.github.io/assets/nn3/opt1.gif)"
      ]
    },
    {
      "metadata": {
        "id": "25d9ASXb65NE",
        "colab_type": "code",
        "colab": {}
      },
      "cell_type": "code",
      "source": [
        "# Choose one of the optimizers and set an initial learning rate\n",
        "optimizer = tf.train.AdamOptimizer(learning_rate=0.001)"
      ],
      "execution_count": 0,
      "outputs": []
    },
    {
      "metadata": {
        "id": "dgYl_Px-65NH",
        "colab_type": "code",
        "colab": {}
      },
      "cell_type": "code",
      "source": [
        "# Create the model\n",
        "model = MNISTModel()"
      ],
      "execution_count": 0,
      "outputs": []
    },
    {
      "metadata": {
        "id": "0rCf3g0u8u00",
        "colab_type": "code",
        "colab": {}
      },
      "cell_type": "code",
      "source": [
        "dataset = tf.data.Dataset.from_tensor_slices((X_train, y_train))\n",
        "dataset = dataset.map(normalizer)\n",
        "dataset = dataset.shuffle(1000) # shuffle before each epoch and bufferize some data\n",
        "dataset = dataset.repeat(1) # number of epochs\n",
        "dataset = dataset.batch(32) # batch size"
      ],
      "execution_count": 0,
      "outputs": []
    },
    {
      "metadata": {
        "id": "yKkQFfHl65NK",
        "colab_type": "code",
        "colab": {
          "base_uri": "https://localhost:8080/",
          "height": 290
        },
        "outputId": "22a0a419-2bae-4133-dda8-7b5d6b3c5a80"
      },
      "cell_type": "code",
      "source": [
        "train_epoch_loss_avg = tfe.metrics.Mean()\n",
        "train_epoch_accuracy = tfe.metrics.Accuracy()\n",
        "\n",
        "for (step, (images, labels)) in enumerate(tfe.Iterator(dataset)):\n",
        "  \n",
        "  with tfe.GradientTape() as tape:\n",
        "    logits = model(tf.expand_dims(images, axis=3))\n",
        "    loss_value = loss(logits, labels)\n",
        "    \n",
        "  grads = tape.gradient(loss_value, model.variables)\n",
        "  optimizer.apply_gradients(zip(grads, model.variables),\n",
        "                            global_step=tf.train.get_or_create_global_step())\n",
        "  \n",
        "  train_epoch_loss_avg(loss_value)\n",
        "  train_epoch_accuracy(tf.cast(tf.argmax(logits, axis=1), tf.uint8), labels)\n",
        "  \n",
        "  if step % 100 == 0:\n",
        "    val_logits = model(tf.expand_dims(tf.cast(X_val,tf.float32), axis=3))\n",
        "    val_predictions = tf.argmax(val_logits, axis=1)\n",
        "    print(\"Training loss: {: .3}\\tTrain Accuracy: {: .3}\\tValidation Accuracy: {: .3}\".format(train_epoch_loss_avg.result(), train_epoch_accuracy.result(), accuracy_score(val_predictions, y_val)))"
      ],
      "execution_count": 15,
      "outputs": [
        {
          "output_type": "stream",
          "text": [
            "Training loss:  2.31 Train Accuracy:  0.125 Validation Accuracy:  0.168\n",
            "Training loss:  0.73 Train Accuracy:  0.786 Validation Accuracy:  0.9\n",
            "Training loss:  0.521 Train Accuracy:  0.848 Validation Accuracy:  0.919\n",
            "Training loss:  0.425 Train Accuracy:  0.875 Validation Accuracy:  0.931\n",
            "Training loss:  0.365 Train Accuracy:  0.892 Validation Accuracy:  0.942\n",
            "Training loss:  0.329 Train Accuracy:  0.902 Validation Accuracy:  0.959\n",
            "Training loss:  0.3 Train Accuracy:  0.911 Validation Accuracy:  0.949\n",
            "Training loss:  0.273 Train Accuracy:  0.919 Validation Accuracy:  0.96\n",
            "Training loss:  0.254 Train Accuracy:  0.925 Validation Accuracy:  0.951\n",
            "Training loss:  0.239 Train Accuracy:  0.93 Validation Accuracy:  0.962\n",
            "Training loss:  0.227 Train Accuracy:  0.933 Validation Accuracy:  0.945\n",
            "Training loss:  0.215 Train Accuracy:  0.936 Validation Accuracy:  0.966\n",
            "Training loss:  0.205 Train Accuracy:  0.939 Validation Accuracy:  0.953\n",
            "Training loss:  0.197 Train Accuracy:  0.942 Validation Accuracy:  0.951\n",
            "Training loss:  0.188 Train Accuracy:  0.944 Validation Accuracy:  0.913\n"
          ],
          "name": "stdout"
        }
      ]
    },
    {
      "metadata": {
        "id": "mi95YnV965NO",
        "colab_type": "code",
        "colab": {}
      },
      "cell_type": "code",
      "source": [
        "from sklearn.metrics import confusion_matrix\n",
        "import itertools\n",
        "\n",
        "def plot_confusion_matrix(cm, classes,\n",
        "                          normalize=False,\n",
        "                          title='Confusion matrix',\n",
        "                          cmap=plt.cm.Blues):\n",
        "    \"\"\"\n",
        "    This function prints and plots the confusion matrix.\n",
        "    Normalization can be applied by setting `normalize=True`.\n",
        "    \"\"\"\n",
        "    if normalize:\n",
        "        cm = cm.astype('float') / cm.sum(axis=1)[:, np.newaxis]\n",
        "        print(\"Normalized confusion matrix\")\n",
        "    else:\n",
        "        print('Confusion matrix, without normalization')\n",
        "\n",
        "    # print(cm)\n",
        "\n",
        "    plt.imshow(cm, interpolation='nearest', cmap=cmap)\n",
        "    plt.title(title)\n",
        "    plt.colorbar()\n",
        "    tick_marks = np.arange(len(classes))\n",
        "    plt.xticks(tick_marks, classes, rotation=45)\n",
        "    plt.yticks(tick_marks, classes)\n",
        "\n",
        "    fmt = '.2f' if normalize else 'd'\n",
        "    thresh = cm.max() / 2.\n",
        "    for i, j in itertools.product(range(cm.shape[0]), range(cm.shape[1])):\n",
        "        plt.text(j, i, format(cm[i, j], fmt),\n",
        "                 horizontalalignment=\"center\",\n",
        "                 color=\"white\" if cm[i, j] > thresh else \"black\")\n",
        "\n",
        "    plt.tight_layout()\n",
        "    plt.ylabel('True label')\n",
        "    plt.xlabel('Predicted label')\n",
        "    plt.show()\n",
        "    \n",
        "def normalized_acc(conf_matrix):\n",
        "    for i in range(conf_matrix.shape[0]):\n",
        "        print(\"Acc class {0} --> {1: .3}\".format(i, conf_matrix[i,i]/sum(conf_matrix[i])))"
      ],
      "execution_count": 0,
      "outputs": []
    },
    {
      "metadata": {
        "id": "pBS4S7kJ65NQ",
        "colab_type": "code",
        "colab": {
          "base_uri": "https://localhost:8080/",
          "height": 35
        },
        "outputId": "86f70dc9-7775-44bf-e62d-6cf53b153f9e"
      },
      "cell_type": "code",
      "source": [
        "test_logits = model(tf.expand_dims(tf.cast(X_test,tf.float32), axis=3))\n",
        "test_predictions = tf.argmax(test_logits, axis=1)\n",
        "print(\"Test Overall Accuracy: {: .3}\".format(accuracy_score(test_predictions, y_test)))"
      ],
      "execution_count": 38,
      "outputs": [
        {
          "output_type": "stream",
          "text": [
            "Test Accuracy:  0.946\n"
          ],
          "name": "stdout"
        }
      ]
    },
    {
      "metadata": {
        "id": "Y-tCNPPC65NR",
        "colab_type": "code",
        "colab": {
          "base_uri": "https://localhost:8080/",
          "height": 433
        },
        "outputId": "dfc08b9e-57c0-4fe4-e11b-5e4e2c6ab210"
      },
      "cell_type": "code",
      "source": [
        "conf_matrix = confusion_matrix(test_predictions, y_test)\n",
        "_ = plot_confusion_matrix(conf_matrix, classes=[str(i) for i in range(10)])"
      ],
      "execution_count": 39,
      "outputs": [
        {
          "output_type": "stream",
          "text": [
            "Confusion matrix, without normalization\n"
          ],
          "name": "stdout"
        },
        {
          "output_type": "display_data",
          "data": {
            "image/png": "[encoded data removed]",
            "text/plain": [
              "<matplotlib.figure.Figure at 0x7f3db79aff28>"
            ]
          },
          "metadata": {
            "tags": []
          }
        }
      ]
    },
    {
      "metadata": {
        "id": "E7eLhsYGQQCX",
        "colab_type": "code",
        "colab": {
          "base_uri": "https://localhost:8080/",
          "height": 199
        },
        "outputId": "e5c57dab-c74d-457c-e615-0cde08a338ed"
      },
      "cell_type": "code",
      "source": [
        "normalized_acc(conf_matrix)"
      ],
      "execution_count": 40,
      "outputs": [
        {
          "output_type": "stream",
          "text": [
            "Acc class 0 -->  0.965\n",
            "Acc class 1 -->  0.997\n",
            "Acc class 2 -->  0.98\n",
            "Acc class 3 -->  0.972\n",
            "Acc class 4 -->  0.988\n",
            "Acc class 5 -->  1.0\n",
            "Acc class 6 -->  0.954\n",
            "Acc class 7 -->  0.992\n",
            "Acc class 8 -->  0.745\n",
            "Acc class 9 -->  0.941\n"
          ],
          "name": "stdout"
        }
      ]
    },
    {
      "metadata": {
        "id": "Ke1bwouJRjwx",
        "colab_type": "code",
        "colab": {}
      },
      "cell_type": "code",
      "source": [
        ""
      ],
      "execution_count": 0,
      "outputs": []
    }
  ]
}
{
  "nbformat": 4,
  "nbformat_minor": 0,
  "metadata": {
    "colab": {
      "name": "MNIST_ConvNet_Solution.ipynb",
      "version": "0.3.2",
      "provenance": [],
      "collapsed_sections": [],
      "include_colab_link": true
    },
    "kernelspec": {
      "name": "python3",
      "display_name": "Python 3"
    },
    "accelerator": "GPU"
  },
  "cells": [
    {
      "cell_type": "markdown",
      "metadata": {
        "id": "view-in-github",
        "colab_type": "text"
      },
      "source": [
        "[View in Colaboratory](https://colab.research.google.com/github/sthalles/tensorflow-tutorials/blob/master/MNIST_ConvNet_Solution.ipynb)"
      ]
    },
    {
      "metadata": {
        "id": "aAOBNN50Tx5z",
        "colab_type": "text"
      },
      "cell_type": "markdown",
      "source": [
        "# Exploring the New Eager Execution TensorFlow API"
      ]
    },
    {
      "metadata": {
        "id": "AfR0x2u-65MY",
        "colab_type": "code",
        "colab": {
          "base_uri": "https://localhost:8080/",
          "height": 35
        },
        "outputId": "aa7bba2f-c90b-473d-f59c-0348d7c155d4"
      },
      "cell_type": "code",
      "source": [
        "import tensorflow as tf\n",
        "import numpy as np\n",
        "import matplotlib.pyplot as plt\n",
        "from mpl_toolkits.axes_grid1 import ImageGrid\n",
        "from tensorflow.examples.tutorials.mnist import input_data\n",
        "from keras.datasets import mnist\n",
        "from sklearn.model_selection import train_test_split\n",
        "from sklearn.metrics import accuracy_score\n",
        "import keras\n",
        "plt.rcParams[\"axes.grid\"] = False"
      ],
      "execution_count": 0,
      "outputs": [
        {
          "output_type": "stream",
          "text": [
            "Using TensorFlow backend.\n"
          ],
          "name": "stderr"
        }
      ]
    },
    {
      "metadata": {
        "id": "vSfYB9xG1Mnb",
        "colab_type": "text"
      },
      "cell_type": "markdown",
      "source": [
        "# Deep Learning\n",
        "\n",
        "Deep Learning is a branch of machine learning focused on building algorithms that learn data representations (instead of task-specific solutions) \n",
        "\n",
        "Deep Learning is **state-of-the-art** in almost all **perception** problem: \n",
        "\n",
        "- Natural Language Processing (NLP)\n",
        "- Voice Recognition\n",
        "- Computer Vision\n",
        "\n",
        "Deep Learning is a **family of methods**:\n",
        "- Feedforward Network\n",
        "- Convolutional Nets\n",
        "- Recurrent Nets\n",
        "- Auto-Encoders\n",
        "- Generative Adversarial Networks\n",
        "- etc..."
      ]
    },
    {
      "metadata": {
        "id": "ii79jzp1aDmU",
        "colab_type": "text"
      },
      "cell_type": "markdown",
      "source": [
        "# TensorFlow Eager Execution\n",
        "\n",
        "Eager execution is a new **high-level TF API** that lets users execute tensors in real time (**Imperative**) fashion. \n",
        "\n",
        "- Brings TF to the level of some other Deep Learning frameworks like PyTorch and Chainer.\n",
        "- Run TF models just like any other python code (Numpy and python objects compliant)\n",
        "- Don't think about Computational Graphs - Just execute code normally \n",
        "- Allows for **real-time python** Debugging\n",
        "- To enable Eager Execution - just run: **tf.enable_eager_execution()**\n",
        "\n",
        "## Exercise\n",
        "\n",
        "1- Enable eager execution mode using *tf.enable_eager_execution()*."
      ]
    },
    {
      "metadata": {
        "id": "Fdqa3b6N723r",
        "colab_type": "code",
        "colab": {}
      },
      "cell_type": "code",
      "source": [
        "# Enable eager execution mode\n",
        "tfe = tf.contrib.eager\n",
        "\n",
        "## YOUR CODE GOES HERE\n",
        "tf.enable_eager_execution()"
      ],
      "execution_count": 0,
      "outputs": []
    },
    {
      "metadata": {
        "id": "mivD5CTu65Mg",
        "colab_type": "code",
        "colab": {
          "base_uri": "https://localhost:8080/",
          "height": 35
        },
        "outputId": "437f940e-cb85-4614-8ecf-87a155c5d981"
      },
      "cell_type": "code",
      "source": [
        "if tf.executing_eagerly():\n",
        "    print(\"Eager is Enabled!\")"
      ],
      "execution_count": 0,
      "outputs": [
        {
          "output_type": "stream",
          "text": [
            "Eager is Enabled!\n"
          ],
          "name": "stdout"
        }
      ]
    },
    {
      "metadata": {
        "id": "UaY0efbWBjWj",
        "colab_type": "text"
      },
      "cell_type": "markdown",
      "source": [
        "# Computer Vision 101 with MNIST \n",
        "\n",
        "## Exploring the MNIST dataset\n",
        "\n",
        "Computer Vision is a branch of AI devoted to building algorithms that enable machines to perceive the world. \n",
        "\n",
        "MNIST is a simple computer vision dataset. It consists **greyscale images of handwritten digits** like these.\n",
        "\n",
        "The MNIST dataset is composed of **60000 thousand images**. *50000* for training and *10000* for testing."
      ]
    },
    {
      "metadata": {
        "id": "KQWMGeGGKiB1",
        "colab_type": "text"
      },
      "cell_type": "markdown",
      "source": [
        "![alt text](https://www.tensorflow.org/versions/r1.1/images/MNIST-Matrix.png)"
      ]
    },
    {
      "metadata": {
        "id": "Stm9ehUpby1U",
        "colab_type": "text"
      },
      "cell_type": "markdown",
      "source": [
        "## Numerical Stabilization\n",
        "\n",
        "Any time we are up to doing some calculus on a computer, we need to think about representation.\n",
        "- We all know, machines are **memory-limited**"
      ]
    },
    {
      "metadata": {
        "id": "UYvuPKzMdR8k",
        "colab_type": "code",
        "colab": {
          "base_uri": "https://localhost:8080/",
          "height": 54
        },
        "outputId": "853ddcf9-2f96-441c-9f61-d540e1da2f95"
      },
      "cell_type": "code",
      "source": [
        "a = 1000000000 # one billion\n",
        "b = 0.000001\n",
        "for i in range(1000000): # should and 1 (in total) to a. Right??\n",
        "  a += b\n",
        "\n",
        "print(\"a:\", a)\n",
        "print(\"a - 1000000000:\", a - 1000000000)"
      ],
      "execution_count": 2,
      "outputs": [
        {
          "output_type": "stream",
          "text": [
            "a: 1000000000.9536743\n",
            "a - 1000000000: 0.95367431640625\n"
          ],
          "name": "stdout"
        }
      ]
    },
    {
      "metadata": {
        "id": "W3s4_BA-fX89",
        "colab_type": "text"
      },
      "cell_type": "markdown",
      "source": [
        "Try now to substitute the 1000000000 (one billion) to just one.\n",
        "\n",
        "What do you see? \n",
        "\n",
        "When calculating the grandients and the loss, we do NOT want their values to get too **BIG** or too **SMALL**.\n",
        "- **Facilitates the job of the optimizer** (find the best spot in the error function)\n",
        "- Makes convergence FASTER and reduces the probability of **DIVERGENCE**.\n",
        "\n",
        "**That is why normalization is important.**"
      ]
    },
    {
      "metadata": {
        "id": "LcaAcJGw65Mn",
        "colab_type": "text"
      },
      "cell_type": "markdown",
      "source": [
        "## Load MNIST data"
      ]
    },
    {
      "metadata": {
        "id": "ymF2hVMZ8Zd1",
        "colab_type": "code",
        "colab": {}
      },
      "cell_type": "code",
      "source": [
        "# Download the mnist data\n",
        "(X_train, y_train), (X_test, y_test) = mnist.load_data()"
      ],
      "execution_count": 0,
      "outputs": []
    },
    {
      "metadata": {
        "id": "1Vn4TOoa8VJf",
        "colab_type": "text"
      },
      "cell_type": "markdown",
      "source": [
        "## Exercise\n",
        "\n",
        "Like we did before, divide the training data into train and validation sets.\n",
        "\n",
        "- You may use: [train_test_split()](http://scikit-learn.org/stable/modules/generated/sklearn.model_selection.train_test_split.html).\n",
        "- Choose a reasonable value for the split fraction."
      ]
    },
    {
      "metadata": {
        "id": "qS6KI6DT8RRu",
        "colab_type": "code",
        "colab": {}
      },
      "cell_type": "code",
      "source": [
        "## YOUR CODE GOES HERE\n",
        "X_train, X_val, y_train, y_val = train_test_split(X_train, y_train, test_size=0.2, random_state=42)"
      ],
      "execution_count": 0,
      "outputs": []
    },
    {
      "metadata": {
        "id": "vNcZQSOx65Ms",
        "colab_type": "text"
      },
      "cell_type": "markdown",
      "source": [
        "# Visualize the dataset Shape and Stats"
      ]
    },
    {
      "metadata": {
        "id": "ltddY8_A65Mt",
        "colab_type": "code",
        "colab": {
          "base_uri": "https://localhost:8080/",
          "height": 126
        },
        "outputId": "29f7d5fd-95b5-453b-db0d-6158821f29d0"
      },
      "cell_type": "code",
      "source": [
        "print(\"Train shape:\", X_train.shape)\n",
        "print(\"Train labels:\", y_train.shape)\n",
        "print(\"Validation shape:\", X_val.shape)\n",
        "print(\"Validation labels:\", y_val.shape)\n",
        "print(\"Test shape:\", X_test.shape)\n",
        "print(\"Test labels:\", y_test.shape)"
      ],
      "execution_count": 0,
      "outputs": [
        {
          "output_type": "stream",
          "text": [
            "Train shape: (48000, 28, 28)\n",
            "Train labels: (48000,)\n",
            "Validation shape: (12000, 28, 28)\n",
            "Validation labels: (12000,)\n",
            "Test shape: (10000, 28, 28)\n",
            "Test labels: (10000,)\n"
          ],
          "name": "stdout"
        }
      ]
    },
    {
      "metadata": {
        "id": "6zQk8ZfnloDn",
        "colab_type": "text"
      },
      "cell_type": "markdown",
      "source": [
        "## Exercise\n",
        "\n",
        "Build the **normalizer()** function above. Our goal is to keep the values between a small range.\n",
        "\n",
        "1. Option 1: Dvide the image pixels by 255. What does it mean?\n",
        "2. Option 2: Subtract each pixel by 128 and divide by 128. "
      ]
    },
    {
      "metadata": {
        "id": "o3JnPP0vB5gF",
        "colab_type": "code",
        "colab": {}
      },
      "cell_type": "code",
      "source": [
        "def normalizer(image, label):\n",
        "  \"\"\"\n",
        "  TODO: Finish the normalizer function\n",
        "  \"\"\"\n",
        "  return tf.to_float(image) / 255., label"
      ],
      "execution_count": 0,
      "outputs": []
    },
    {
      "metadata": {
        "id": "UZQtKc7_65Mw",
        "colab_type": "code",
        "colab": {
          "base_uri": "https://localhost:8080/",
          "height": 413
        },
        "outputId": "841dff1c-d6fd-4ede-9f85-fc35c48c38c9"
      },
      "cell_type": "code",
      "source": [
        "## Visualize the dataset distribution\n",
        "\n",
        "import pylab as P\n",
        "n, bins, patches = P.hist(y_train, bins=10, histtype=\"bar\", rwidth=0.8)\n",
        "print(\"Train:\", n)\n",
        "n, bins, patches = P.hist(y_test, bins=10, histtype=\"bar\", rwidth=0.8 )\n",
        "print(\"Test:\", n)\n",
        "P.xlabel('Classes')\n",
        "P.ylabel('Distribution')\n",
        "P.title('Train/Test distribution')\n",
        "P.show()"
      ],
      "execution_count": 0,
      "outputs": [
        {
          "output_type": "stream",
          "text": [
            "Train: [4748. 5420. 4784. 4912. 4666. 4317. 4741. 4966. 4691. 4755.]\n",
            "Test: [ 980. 1135. 1032. 1010.  982.  892.  958. 1028.  974. 1009.]\n"
          ],
          "name": "stdout"
        },
        {
          "output_type": "display_data",
          "data": {
            "image/png": "[encoded data removed]",
            "text/plain": [
              "<matplotlib.figure.Figure at 0x7f59ee7902b0>"
            ]
          },
          "metadata": {
            "tags": []
          }
        }
      ]
    },
    {
      "metadata": {
        "id": "5C_DYDAE65Mz",
        "colab_type": "code",
        "colab": {
          "base_uri": "https://localhost:8080/",
          "height": 90
        },
        "outputId": "eccd4f89-f1d2-4bc6-f41d-e4b5e8a0f54d"
      },
      "cell_type": "code",
      "source": [
        "print(\"Max value:\", np.max(X_train[0]))\n",
        "print(\"Min value:\", np.min(X_train[0]))\n",
        "print(\"Mean:\", np.mean(X_train[0]))\n",
        "print(\"Std:\", np.std(X_train[0]))"
      ],
      "execution_count": 0,
      "outputs": [
        {
          "output_type": "stream",
          "text": [
            "Max value: 255\n",
            "Min value: 0\n",
            "Mean: 32.81887755102041\n",
            "Std: 76.27195468984321\n"
          ],
          "name": "stdout"
        }
      ]
    },
    {
      "metadata": {
        "id": "Hln7rscN65M2",
        "colab_type": "text"
      },
      "cell_type": "markdown",
      "source": [
        "## Visualize some MNIST images"
      ]
    },
    {
      "metadata": {
        "id": "w0HpFtdF65M2",
        "colab_type": "code",
        "colab": {
          "base_uri": "https://localhost:8080/",
          "height": 377
        },
        "outputId": "ecaba715-c549-4056-a925-eed6927c5698"
      },
      "cell_type": "code",
      "source": [
        "fig = plt.figure(1, (6., 6.))\n",
        "grid = ImageGrid(fig, 111,  # similar to subplot(111)\n",
        "                 nrows_ncols=(4, 4),  # creates 2x2 grid of axes\n",
        "                 axes_pad=0.1,  # pad between axes in inch.\n",
        "                 )\n",
        "\n",
        "for i in range(16):\n",
        "    grid[i].imshow(X_train[i], cmap=\"gray\")  # The AxesGrid object work as a list of axes.\n",
        "\n",
        "plt.show()"
      ],
      "execution_count": 0,
      "outputs": [
        {
          "output_type": "display_data",
          "data": {
            "image/png": "[encoded data removed]",
            "text/plain": [
              "<matplotlib.figure.Figure at 0x7f59ee519358>"
            ]
          },
          "metadata": {
            "tags": []
          }
        }
      ]
    },
    {
      "metadata": {
        "id": "GD40dOS165M6",
        "colab_type": "text"
      },
      "cell_type": "markdown",
      "source": [
        "## Building Tensorflow Model"
      ]
    },
    {
      "metadata": {
        "id": "TtwfoK4X65M7",
        "colab_type": "text"
      },
      "cell_type": "markdown",
      "source": [
        "\n",
        "![alt text](http://cs231n.github.io/assets/cnn/convnet.jpeg)\n",
        "\n",
        "The basic architecture follows a simple sequence of operations.\n",
        "1. Convolution\n",
        "2. Activation function\n",
        "3. Pooling\n",
        "4. Fully-Connected layers \n",
        "\n",
        "In the end, we usually apply some fully-connected layers to build the classification layer.\n",
        "\n",
        "Refer to these links for full documentations:\n",
        "\n",
        "- [Keras Conv2D](https://www.tensorflow.org/api_docs/python/tf/keras/layers/Conv2D)\n",
        "- [Keras Activation](https://www.tensorflow.org/api_docs/python/tf/keras/layers/Activation)\n",
        "- [Keras MaxPool2D](https://www.tensorflow.org/api_docs/python/tf/keras/layers/MaxPool2D)\n",
        "- [Keras Dense](https://www.tensorflow.org/api_docs/python/tf/keras/layers/Dense)\n",
        "\n",
        "\n",
        "![LeNet-5](https://world4jason.gitbooks.io/research-log/content/deepLearning/CNN/img/lenet.png)\n",
        "\n",
        "\n",
        "### Convolutions and Non-linearity\n",
        "\n",
        "The convolution is a linear operation that looks for correlation in a** grid-like neighborhood**. \n",
        "\n",
        "Its main advantage is that we do not need to set up the kernels\n",
        "- The network will learn them for us.\n",
        "\n",
        "Also, they are very memory efficient.\n",
        "- They **share parameters** across space.\n",
        "\n",
        "![Convolution](http://deeplearning.net/software/theano/_images/numerical_padding_strides.gif)\n",
        "\n",
        "Non-linearity is what makes DNN cool.\n",
        "\n",
        "ReLU (rectified linear Unit) is one of the most simple functions one can think of.\n",
        "- Yet, they do just what we need. **Non-linearity** and **Differentiability**.\n",
        "\n",
        "![NonLinearity](https://tiny.colaflycdn.com/static/img/learn/relu.png)"
      ]
    },
    {
      "metadata": {
        "id": "9LTfrgyDo7_o",
        "colab_type": "text"
      },
      "cell_type": "markdown",
      "source": [
        "### Exercise:\n",
        "\n",
        "Build your own DNN using eager execution.\n",
        "\n",
        "Hint: Use the [Keras layers](https://www.tensorflow.org/api_docs/python/tf/keras/layers) built into Tensorflow."
      ]
    },
    {
      "metadata": {
        "id": "aJwsbTjl65M8",
        "colab_type": "code",
        "colab": {}
      },
      "cell_type": "code",
      "source": [
        "class MNISTModel(tf.keras.Model):\n",
        "    \n",
        "    def __init__(self):\n",
        "        super(MNISTModel, self).__init__()\n",
        "        self.conv1 = tf.keras.layers.Conv2D(filters=32, kernel_size=3, strides=(1, 1),\n",
        "                                            padding='same', activation=tf.nn.relu, use_bias=True)\n",
        "        self.pool1 = tf.keras.layers.MaxPool2D(pool_size=2, strides=2, padding=\"same\")\n",
        "        self.flatten = tf.layers.Flatten()\n",
        "        self.fc1 = tf.keras.layers.Dense(units=128, activation=tf.nn.relu)\n",
        "        self.logits = tf.keras.layers.Dense(units=10)\n",
        "\n",
        "    def call(self, inputs):\n",
        "        conv1 = self.conv1(inputs)\n",
        "        pool1 = self.pool1(conv1)\n",
        "        flat = self.flatten(pool1)\n",
        "        fc1 = self.fc1(flat)\n",
        "        logits = self.logits(fc1)\n",
        "        return logits"
      ],
      "execution_count": 0,
      "outputs": []
    },
    {
      "metadata": {
        "id": "zuCA-haQNTsu",
        "colab_type": "text"
      },
      "cell_type": "markdown",
      "source": [
        "# Loss\n",
        "\n",
        "The loss function (or objective) is responsible for measuring how **good/bad** our classifier is doing. \n",
        "\n",
        "There are many loss functions.\n",
        "\n",
        "For **multiclass problems**, we usually use the **cross-entropy** function.\n",
        "\n",
        "The cross-entropy loss (log-loss) is used to measure the performance of a classifier that outputs probabilities.\n",
        "\n",
        "![alt text](https://github.com/sthalles/tensorflow-tutorials/blob/master/images/cross_entropy.png?raw=true)\n",
        "\n",
        "- The cross-entropy **increases** when the predicted value deviates from the true values and **decreases** otherwise.\n",
        "\n",
        "One-hot encoding is a form of representing categorical data so that each category (class) contains the same power (magnitude) over one another.\n",
        "\n",
        "![One-hot encodding representation](https://encrypted-tbn0.gstatic.com/images?q=tbn:ANd9GcRRo9fhLj8UpmziNvD_eifQ3SkjybaaGmlfLd5Z2fsDn3XaASUoWw)\n",
        "\n",
        "### Exercise:\n",
        "\n",
        "Finish the **loss()** function bellow.\n",
        "\n",
        "1. Remember, our labels are vectors. *Example: [0, 3, 2, 5, 6, ..., 5]*. \n",
        "\n",
        "2. Each number represents the image corresponding class. However, in order to make the labels equally valued, we need to convert them to binary representations (**one-hot-encoding**).\n",
        "\n",
        "3. Use the [tf.one_hot()](https://www.tensorflow.org/api_docs/python/tf/one_hot) function to convert the labels to the proper format.\n",
        "\n",
        "4. For the cross-entropy loss you can choose to **write it your self** or use the built-in [tf.nn.softmax_cross_entropy_with_logits_v2()](https://www.tensorflow.org/api_docs/python/tf/nn/softmax_cross_entropy_with_logits_v2). \n",
        "\n",
        "  - If you take the challenge of writing it, [tf.multiply()](https://www.tensorflow.org/api_docs/python/tf/multiply) and [tf.log()](https://www.tensorflow.org/api_docs/python/tf/log) will help. "
      ]
    },
    {
      "metadata": {
        "id": "Mae8x2hL65NB",
        "colab_type": "code",
        "colab": {}
      },
      "cell_type": "code",
      "source": [
        "def loss(logits, labels):\n",
        "  # YOUR CODE GOES HERE\n",
        "  labels_one_hot = tf.one_hot(labels, 10)\n",
        "  \n",
        "  # cross_entropy = tf.nn.softmax_cross_entropy_with_logits_v2(labels=labels_one_hot, logits=logits)\n",
        "  # print(cross_entropy.shape)\n",
        "\n",
        "  cross_entropy = tf.multiply(labels_one_hot, tf.log(tf.nn.softmax(logits))) # element wise multiplication\n",
        "  return - tf.reduce_mean(cross_entropy)"
      ],
      "execution_count": 0,
      "outputs": []
    },
    {
      "metadata": {
        "id": "N76qN4L_nkjz",
        "colab_type": "text"
      },
      "cell_type": "markdown",
      "source": [
        "## Exercise - Hyperparameters\n",
        "\n",
        "\n",
        "Tune the hyperparameters bellow.\n",
        "- Remember: The learning rate controls how fast your model learns. \n",
        "- A bigger learning rate might get you to a sub-optimal objective faster, but you might **overshoot the target.**"
      ]
    },
    {
      "metadata": {
        "id": "20uC6p7inXvK",
        "colab_type": "code",
        "colab": {}
      },
      "cell_type": "code",
      "source": [
        "## CODE GOES HERE\n",
        "epochs = 1\n",
        "batch_size = 32\n",
        "learning_rate = 0.001"
      ],
      "execution_count": 0,
      "outputs": []
    },
    {
      "metadata": {
        "id": "dBp6U-eDJLhg",
        "colab_type": "text"
      },
      "cell_type": "markdown",
      "source": [
        "# Optimizers\n",
        "\n",
        "The Optimizer is the algorithm responsible for applying the gradients to the Model's weight variables. \n",
        "\n",
        "Imagine a curved surface (just an example), the goal is to find the minimal value of that surface. \n",
        "\n",
        "The Gradient points to the direction of **steepest ascent**. Thus, we follow the opposite direction of the gradient (**steepest descent**).\n",
        "\n",
        "These are some of the Optimizers available in Tensorflow\n",
        "\n",
        "- **AdadeltaOptimizer**: Optimizer that implements the Adadelta algorithm.\n",
        "\n",
        "- **AdagradOptimizer**: Optimizer that implements the Adagrad algorithm.\n",
        "\n",
        "- **AdamOptimizer**: Optimizer that implements the Adam algorithm.\n",
        "\n",
        "- **GradientDescentOptimizer**: Optimizer that implements the gradient descent algorithm.\n",
        "\n",
        "- **MomentumOptimizer**: Optimizer that implements the Momentum algorithm.\n",
        "\n",
        "[Tensorflow Build-in Optimizers](https://www.tensorflow.org/versions/r1.2/api_docs/python/tf/train)\n",
        "\n",
        "## Exercise:\n",
        "\n",
        "1. Pick one of these optimizers and  use it to minimize the loss function for your model.\n"
      ]
    },
    {
      "metadata": {
        "id": "986czgX1GqWC",
        "colab_type": "text"
      },
      "cell_type": "markdown",
      "source": [
        "![alt text](https://cs231n.github.io/assets/nn3/opt1.gif)"
      ]
    },
    {
      "metadata": {
        "id": "25d9ASXb65NE",
        "colab_type": "code",
        "colab": {}
      },
      "cell_type": "code",
      "source": [
        "# Choose one of the optimizers and set an initial learning rate\n",
        "# CODE GOES HERE\n",
        "optimizer = tf.train.AdamOptimizer(learning_rate=learning_rate)"
      ],
      "execution_count": 0,
      "outputs": []
    },
    {
      "metadata": {
        "id": "dgYl_Px-65NH",
        "colab_type": "code",
        "colab": {}
      },
      "cell_type": "code",
      "source": [
        "# Create the model\n",
        "model = MNISTModel()"
      ],
      "execution_count": 0,
      "outputs": []
    },
    {
      "metadata": {
        "id": "0rCf3g0u8u00",
        "colab_type": "code",
        "colab": {}
      },
      "cell_type": "code",
      "source": [
        "dataset = tf.data.Dataset.from_tensor_slices((X_train, y_train))\n",
        "dataset = dataset.map(normalizer)\n",
        "dataset = dataset.shuffle(1000) # shuffle before each epoch and bufferize some data\n",
        "dataset = dataset.repeat(epochs) # number of epochs\n",
        "dataset = dataset.batch(batch_size) # batch size"
      ],
      "execution_count": 0,
      "outputs": []
    },
    {
      "metadata": {
        "id": "U78KTudAy6En",
        "colab_type": "text"
      },
      "cell_type": "markdown",
      "source": [
        "## Exercise\n",
        "\n",
        "Finish the training loop. The mean part if the **Gradient Tape**. It accumulates gradients for a batch.\n",
        "\n",
        "Inside the **GradientTape()** scope:\n",
        "1. Compute the logits, run a forward pass through the model.\n",
        "2. Use the logits to compute the loss value i.e. call the **loss()** function.\n",
        "3. Outside of the **GradientTape()** scope compute the **gradient of the loss with respect to the weights**."
      ]
    },
    {
      "metadata": {
        "id": "yKkQFfHl65NK",
        "colab_type": "code",
        "colab": {
          "base_uri": "https://localhost:8080/",
          "height": 14082
        },
        "outputId": "f261428c-7ff0-48e7-879d-83a6470a0f9f"
      },
      "cell_type": "code",
      "source": [
        "train_epoch_loss_avg = tfe.metrics.Mean()\n",
        "train_epoch_accuracy = tfe.metrics.Accuracy()\n",
        "\n",
        "for (step, (images, labels)) in enumerate(tfe.Iterator(dataset)):\n",
        "  \n",
        "  with tfe.GradientTape() as tape:\n",
        "    logits = model(tf.expand_dims(images, axis=3))\n",
        "    loss_value = loss(logits, labels)\n",
        "    \n",
        "  grads = tape.gradient(loss_value, model.variables)\n",
        "  optimizer.apply_gradients(zip(grads, model.variables),\n",
        "                            global_step=tf.train.get_or_create_global_step())\n",
        "  \n",
        "  train_epoch_loss_avg(loss_value)\n",
        "  train_epoch_accuracy(tf.cast(tf.argmax(logits, axis=1), tf.uint8), labels)\n",
        "  \n",
        "  if step % 100 == 0:\n",
        "    val_logits = model(tf.expand_dims(tf.cast(X_val,tf.float32), axis=3))\n",
        "    val_predictions = tf.argmax(val_logits, axis=1)\n",
        "    print(\"Training loss: {: .3}\\tTrain Accuracy: {: .3}\\tValidation Accuracy: {: .3}\".format(train_epoch_loss_avg.result(), train_epoch_accuracy.result(), accuracy_score(val_predictions, y_val)))"
      ],
      "execution_count": 0,
      "outputs": [
        {
          "output_type": "stream",
          "text": [
            "tf.Tensor(\n",
            "[-0.        -2.2056406 -0.        -0.        -0.        -0.\n",
            " -0.        -0.        -0.        -0.       ], shape=(10,), dtype=float32)\n",
            "-----------\n",
            "tf.Tensor(\n",
            "[-0. -0. -0. -0. -0. -0. -0. -0. -0. -0. -0. -0. -0. -0. -0. -0. -0. -0.\n",
            " -0. -0. -0. -0. -0. -0. -0. -0. -0. -0. -0. -0. -0. -0.], shape=(32,), dtype=float32)\n",
            "(32,)\n",
            "-----------------------------\n",
            "Training loss:  0.231\tTrain Accuracy:  0.0938\tValidation Accuracy:  0.326\n",
            "tf.Tensor(\n",
            "[-0.        -2.5244894 -0.        -0.        -0.        -0.\n",
            " -0.        -0.        -0.        -0.       ], shape=(10,), dtype=float32)\n",
            "-----------\n",
            "tf.Tensor(\n",
            "[-0. -0. -0. -0. -0. -0. -0. -0. -0. -0. -0. -0. -0. -0. -0. -0. -0. -0.\n",
            " -0. -0. -0. -0. -0. -0. -0. -0. -0. -0. -0. -0. -0. -0.], shape=(32,), dtype=float32)\n",
            "(32,)\n",
            "-----------------------------\n",
            "tf.Tensor(\n",
            "[-0.        -0.        -2.2754185 -0.        -0.        -0.\n",
            " -0.        -0.        -0.        -0.       ], shape=(10,), dtype=float32)\n",
            "-----------\n",
            "tf.Tensor(\n",
            "[-0. -0. -0. -0. -0. -0. -0. -0. -0. -0. -0. -0. -0. -0. -0. -0. -0. -0.\n",
            " -0. -0. -0. -0. -0. -0. -0. -0. -0. -0. -0. -0. -0. -0.], shape=(32,), dtype=float32)\n",
            "(32,)\n",
            "-----------------------------\n",
            "tf.Tensor(\n",
            "[-0.        -0.        -0.        -2.4455514 -0.        -0.\n",
            " -0.        -0.        -0.        -0.       ], shape=(10,), dtype=float32)\n",
            "-----------\n",
            "tf.Tensor(\n",
            "[-0. -0. -0. -0. -0. -0. -0. -0. -0. -0. -0. -0. -0. -0. -0. -0. -0. -0.\n",
            " -0. -0. -0. -0. -0. -0. -0. -0. -0. -0. -0. -0. -0. -0.], shape=(32,), dtype=float32)\n",
            "(32,)\n",
            "-----------------------------\n",
            "tf.Tensor(\n",
            "[-0.        -1.8658428 -0.        -0.        -0.        -0.\n",
            " -0.        -0.        -0.        -0.       ], shape=(10,), dtype=float32)\n",
            "-----------\n",
            "tf.Tensor(\n",
            "[-0. -0. -0. -0. -0. -0. -0. -0. -0. -0. -0. -0. -0. -0. -0. -0. -0. -0.\n",
            " -0. -0. -0. -0. -0. -0. -0. -0. -0. -0. -0. -0. -0. -0.], shape=(32,), dtype=float32)\n",
            "(32,)\n",
            "-----------------------------\n",
            "tf.Tensor(\n",
            "[-0.        -0.        -0.        -0.        -0.        -0.\n",
            " -0.9180449 -0.        -0.        -0.       ], shape=(10,), dtype=float32)\n",
            "-----------\n",
            "tf.Tensor(\n",
            "[-0. -0. -0. -0. -0. -0. -0. -0. -0. -0. -0. -0. -0. -0. -0. -0. -0. -0.\n",
            " -0. -0. -0. -0. -0. -0. -0. -0. -0. -0. -0. -0. -0. -0.], shape=(32,), dtype=float32)\n",
            "(32,)\n",
            "-----------------------------\n",
            "tf.Tensor(\n",
            "[-0.        -0.        -1.6738589 -0.        -0.        -0.\n",
            " -0.        -0.        -0.        -0.       ], shape=(10,), dtype=float32)\n",
            "-----------\n",
            "tf.Tensor(\n",
            "[-0. -0. -0. -0. -0. -0. -0. -0. -0. -0. -0. -0. -0. -0. -0. -0. -0. -0.\n",
            " -0. -0. -0. -0. -0. -0. -0. -0. -0. -0. -0. -0. -0. -0.], shape=(32,), dtype=float32)\n",
            "(32,)\n",
            "-----------------------------\n",
            "tf.Tensor(\n",
            "[-0.        -0.        -0.        -0.        -0.        -0.\n",
            " -1.1138284 -0.        -0.        -0.       ], shape=(10,), dtype=float32)\n",
            "-----------\n",
            "tf.Tensor(\n",
            "[-0. -0. -0. -0. -0. -0. -0. -0. -0. -0. -0. -0. -0. -0. -0. -0. -0. -0.\n",
            " -0. -0. -0. -0. -0. -0. -0. -0. -0. -0. -0. -0. -0. -0.], shape=(32,), dtype=float32)\n",
            "(32,)\n",
            "-----------------------------\n",
            "tf.Tensor(\n",
            "[-0.        -1.0367334 -0.        -0.        -0.        -0.\n",
            " -0.        -0.        -0.        -0.       ], shape=(10,), dtype=float32)\n",
            "-----------\n",
            "tf.Tensor(\n",
            "[-0. -0. -0. -0. -0. -0. -0. -0. -0. -0. -0. -0. -0. -0. -0. -0. -0. -0.\n",
            " -0. -0. -0. -0. -0. -0. -0. -0. -0. -0. -0. -0. -0. -0.], shape=(32,), dtype=float32)\n",
            "(32,)\n",
            "-----------------------------\n",
            "tf.Tensor(\n",
            "[-0.        -0.        -1.6639271 -0.        -0.        -0.\n",
            " -0.        -0.        -0.        -0.       ], shape=(10,), dtype=float32)\n",
            "-----------\n",
            "tf.Tensor(\n",
            "[-0. -0. -0. -0. -0. -0. -0. -0. -0. -0. -0. -0. -0. -0. -0. -0. -0. -0.\n",
            " -0. -0. -0. -0. -0. -0. -0. -0. -0. -0. -0. -0. -0. -0.], shape=(32,), dtype=float32)\n",
            "(32,)\n",
            "-----------------------------\n",
            "tf.Tensor(\n",
            "[-0.        -0.        -0.        -0.        -0.        -0.\n",
            " -0.        -0.        -0.        -1.9552516], shape=(10,), dtype=float32)\n",
            "-----------\n",
            "tf.Tensor(\n",
            "[-0. -0. -0. -0. -0. -0. -0. -0. -0. -0. -0. -0. -0. -0. -0. -0. -0. -0.\n",
            " -0. -0. -0. -0. -0. -0. -0. -0. -0. -0. -0. -0. -0. -0.], shape=(32,), dtype=float32)\n",
            "(32,)\n",
            "-----------------------------\n",
            "tf.Tensor(\n",
            "[-0.        -0.        -1.6503716 -0.        -0.        -0.\n",
            " -0.        -0.        -0.        -0.       ], shape=(10,), dtype=float32)\n",
            "-----------\n",
            "tf.Tensor(\n",
            "[-0. -0. -0. -0. -0. -0. -0. -0. -0. -0. -0. -0. -0. -0. -0. -0. -0. -0.\n",
            " -0. -0. -0. -0. -0. -0. -0. -0. -0. -0. -0. -0. -0. -0.], shape=(32,), dtype=float32)\n",
            "(32,)\n",
            "-----------------------------\n",
            "tf.Tensor(\n",
            "[-0.27573958 -0.         -0.         -0.         -0.         -0.\n",
            " -0.         -0.         -0.         -0.        ], shape=(10,), dtype=float32)\n",
            "-----------\n",
            "tf.Tensor(\n",
            "[-0. -0. -0. -0. -0. -0. -0. -0. -0. -0. -0. -0. -0. -0. -0. -0. -0. -0.\n",
            " -0. -0. -0. -0. -0. -0. -0. -0. -0. -0. -0. -0. -0. -0.], shape=(32,), dtype=float32)\n",
            "(32,)\n",
            "-----------------------------\n",
            "tf.Tensor(\n",
            "[-0.        -0.        -0.        -0.        -0.        -0.\n",
            " -0.        -0.        -3.5783958 -0.       ], shape=(10,), dtype=float32)\n",
            "-----------\n",
            "tf.Tensor(\n",
            "[-0. -0. -0. -0. -0. -0. -0. -0. -0. -0. -0. -0. -0. -0. -0. -0. -0. -0.\n",
            " -0. -0. -0. -0. -0. -0. -0. -0. -0. -0. -0. -0. -0. -0.], shape=(32,), dtype=float32)\n",
            "(32,)\n",
            "-----------------------------\n",
            "tf.Tensor(\n",
            "[-0.1019421 -0.        -0.        -0.        -0.        -0.\n",
            " -0.        -0.        -0.        -0.       ], shape=(10,), dtype=float32)\n",
            "-----------\n",
            "tf.Tensor(\n",
            "[-0. -0. -0. -0. -0. -0. -0. -0. -0. -0. -0. -0. -0. -0. -0. -0. -0. -0.\n",
            " -0. -0. -0. -0. -0. -0. -0. -0. -0. -0. -0. -0. -0. -0.], shape=(32,), dtype=float32)\n",
            "(32,)\n",
            "-----------------------------\n",
            "tf.Tensor(\n",
            "[-0.       -0.272527 -0.       -0.       -0.       -0.       -0.\n",
            " -0.       -0.       -0.      ], shape=(10,), dtype=float32)\n",
            "-----------\n",
            "tf.Tensor(\n",
            "[-0. -0. -0. -0. -0. -0. -0. -0. -0. -0. -0. -0. -0. -0. -0. -0. -0. -0.\n",
            " -0. -0. -0. -0. -0. -0. -0. -0. -0. -0. -0. -0. -0. -0.], shape=(32,), dtype=float32)\n",
            "(32,)\n",
            "-----------------------------\n",
            "tf.Tensor(\n",
            "[-0.         -0.         -0.12070285 -0.         -0.         -0.\n",
            " -0.         -0.         -0.         -0.        ], shape=(10,), dtype=float32)\n",
            "-----------\n",
            "tf.Tensor(\n",
            "[-0. -0. -0. -0. -0. -0. -0. -0. -0. -0. -0. -0. -0. -0. -0. -0. -0. -0.\n",
            " -0. -0. -0. -0. -0. -0. -0. -0. -0. -0. -0. -0. -0. -0.], shape=(32,), dtype=float32)\n",
            "(32,)\n",
            "-----------------------------\n",
            "tf.Tensor(\n",
            "[-0.43143046 -0.         -0.         -0.         -0.         -0.\n",
            " -0.         -0.         -0.         -0.        ], shape=(10,), dtype=float32)\n",
            "-----------\n",
            "tf.Tensor(\n",
            "[-0. -0. -0. -0. -0. -0. -0. -0. -0. -0. -0. -0. -0. -0. -0. -0. -0. -0.\n",
            " -0. -0. -0. -0. -0. -0. -0. -0. -0. -0. -0. -0. -0. -0.], shape=(32,), dtype=float32)\n",
            "(32,)\n",
            "-----------------------------\n",
            "tf.Tensor(\n",
            "[-0.        -0.        -0.        -0.        -1.7009034 -0.\n",
            " -0.        -0.        -0.        -0.       ], shape=(10,), dtype=float32)\n",
            "-----------\n",
            "tf.Tensor(\n",
            "[-0. -0. -0. -0. -0. -0. -0. -0. -0. -0. -0. -0. -0. -0. -0. -0. -0. -0.\n",
            " -0. -0. -0. -0. -0. -0. -0. -0. -0. -0. -0. -0. -0. -0.], shape=(32,), dtype=float32)\n",
            "(32,)\n",
            "-----------------------------\n",
            "tf.Tensor(\n",
            "[-0.       -0.       -0.       -3.899006 -0.       -0.       -0.\n",
            " -0.       -0.       -0.      ], shape=(10,), dtype=float32)\n",
            "-----------\n",
            "tf.Tensor(\n",
            "[-0. -0. -0. -0. -0. -0. -0. -0. -0. -0. -0. -0. -0. -0. -0. -0. -0. -0.\n",
            " -0. -0. -0. -0. -0. -0. -0. -0. -0. -0. -0. -0. -0. -0.], shape=(32,), dtype=float32)\n",
            "(32,)\n",
            "-----------------------------\n",
            "tf.Tensor(\n",
            "[-0.        -0.7061825 -0.        -0.        -0.        -0.\n",
            " -0.        -0.        -0.        -0.       ], shape=(10,), dtype=float32)\n",
            "-----------\n",
            "tf.Tensor(\n",
            "[-0. -0. -0. -0. -0. -0. -0. -0. -0. -0. -0. -0. -0. -0. -0. -0. -0. -0.\n",
            " -0. -0. -0. -0. -0. -0. -0. -0. -0. -0. -0. -0. -0. -0.], shape=(32,), dtype=float32)\n",
            "(32,)\n",
            "-----------------------------\n",
            "tf.Tensor(\n",
            "[-0.         -0.         -0.13017763 -0.         -0.         -0.\n",
            " -0.         -0.         -0.         -0.        ], shape=(10,), dtype=float32)\n",
            "-----------\n",
            "tf.Tensor(\n",
            "[-0. -0. -0. -0. -0. -0. -0. -0. -0. -0. -0. -0. -0. -0. -0. -0. -0. -0.\n",
            " -0. -0. -0. -0. -0. -0. -0. -0. -0. -0. -0. -0. -0. -0.], shape=(32,), dtype=float32)\n",
            "(32,)\n",
            "-----------------------------\n",
            "tf.Tensor(\n",
            "[-0.        -0.        -0.        -0.        -0.        -0.\n",
            " -0.        -0.        -1.6518564 -0.       ], shape=(10,), dtype=float32)\n",
            "-----------\n",
            "tf.Tensor(\n",
            "[-0. -0. -0. -0. -0. -0. -0. -0. -0. -0. -0. -0. -0. -0. -0. -0. -0. -0.\n",
            " -0. -0. -0. -0. -0. -0. -0. -0. -0. -0. -0. -0. -0. -0.], shape=(32,), dtype=float32)\n",
            "(32,)\n",
            "-----------------------------\n",
            "tf.Tensor(\n",
            "[-0.         -0.         -0.         -0.         -0.         -0.\n",
            " -0.14341147 -0.         -0.         -0.        ], shape=(10,), dtype=float32)\n",
            "-----------\n",
            "tf.Tensor(\n",
            "[-0. -0. -0. -0. -0. -0. -0. -0. -0. -0. -0. -0. -0. -0. -0. -0. -0. -0.\n",
            " -0. -0. -0. -0. -0. -0. -0. -0. -0. -0. -0. -0. -0. -0.], shape=(32,), dtype=float32)\n",
            "(32,)\n",
            "-----------------------------\n",
            "tf.Tensor(\n",
            "[-0.        -0.        -0.        -0.9794526 -0.        -0.\n",
            " -0.        -0.        -0.        -0.       ], shape=(10,), dtype=float32)\n",
            "-----------\n",
            "tf.Tensor(\n",
            "[-0. -0. -0. -0. -0. -0. -0. -0. -0. -0. -0. -0. -0. -0. -0. -0. -0. -0.\n",
            " -0. -0. -0. -0. -0. -0. -0. -0. -0. -0. -0. -0. -0. -0.], shape=(32,), dtype=float32)\n",
            "(32,)\n",
            "-----------------------------\n",
            "tf.Tensor(\n",
            "[-0.         -0.         -0.00958046 -0.         -0.         -0.\n",
            " -0.         -0.         -0.         -0.        ], shape=(10,), dtype=float32)\n",
            "-----------\n",
            "tf.Tensor(\n",
            "[-0. -0. -0. -0. -0. -0. -0. -0. -0. -0. -0. -0. -0. -0. -0. -0. -0. -0.\n",
            " -0. -0. -0. -0. -0. -0. -0. -0. -0. -0. -0. -0. -0. -0.], shape=(32,), dtype=float32)\n",
            "(32,)\n",
            "-----------------------------\n",
            "tf.Tensor(\n",
            "[-0.         -0.         -0.03882434 -0.         -0.         -0.\n",
            " -0.         -0.         -0.         -0.        ], shape=(10,), dtype=float32)\n",
            "-----------\n",
            "tf.Tensor(\n",
            "[-0. -0. -0. -0. -0. -0. -0. -0. -0. -0. -0. -0. -0. -0. -0. -0. -0. -0.\n",
            " -0. -0. -0. -0. -0. -0. -0. -0. -0. -0. -0. -0. -0. -0.], shape=(32,), dtype=float32)\n",
            "(32,)\n",
            "-----------------------------\n",
            "tf.Tensor(\n",
            "[-0.         -0.         -0.11989704 -0.         -0.         -0.\n",
            " -0.         -0.         -0.         -0.        ], shape=(10,), dtype=float32)\n",
            "-----------\n",
            "tf.Tensor(\n",
            "[-0. -0. -0. -0. -0. -0. -0. -0. -0. -0. -0. -0. -0. -0. -0. -0. -0. -0.\n",
            " -0. -0. -0. -0. -0. -0. -0. -0. -0. -0. -0. -0. -0. -0.], shape=(32,), dtype=float32)\n",
            "(32,)\n",
            "-----------------------------\n",
            "tf.Tensor(\n",
            "[-0.       -1.362751 -0.       -0.       -0.       -0.       -0.\n",
            " -0.       -0.       -0.      ], shape=(10,), dtype=float32)\n",
            "-----------\n",
            "tf.Tensor(\n",
            "[-0. -0. -0. -0. -0. -0. -0. -0. -0. -0. -0. -0. -0. -0. -0. -0. -0. -0.\n",
            " -0. -0. -0. -0. -0. -0. -0. -0. -0. -0. -0. -0. -0. -0.], shape=(32,), dtype=float32)\n",
            "(32,)\n",
            "-----------------------------\n",
            "tf.Tensor(\n",
            "[-0.        -0.        -0.        -0.        -0.        -0.\n",
            " -0.        -0.        -0.3744696 -0.       ], shape=(10,), dtype=float32)\n",
            "-----------\n",
            "tf.Tensor(\n",
            "[-0. -0. -0. -0. -0. -0. -0. -0. -0. -0. -0. -0. -0. -0. -0. -0. -0. -0.\n",
            " -0. -0. -0. -0. -0. -0. -0. -0. -0. -0. -0. -0. -0. -0.], shape=(32,), dtype=float32)\n",
            "(32,)\n",
            "-----------------------------\n",
            "tf.Tensor(\n",
            "[-0.        -0.        -0.        -0.        -0.        -0.\n",
            " -1.8349125 -0.        -0.        -0.       ], shape=(10,), dtype=float32)\n",
            "-----------\n",
            "tf.Tensor(\n",
            "[-0. -0. -0. -0. -0. -0. -0. -0. -0. -0. -0. -0. -0. -0. -0. -0. -0. -0.\n",
            " -0. -0. -0. -0. -0. -0. -0. -0. -0. -0. -0. -0. -0. -0.], shape=(32,), dtype=float32)\n",
            "(32,)\n",
            "-----------------------------\n",
            "tf.Tensor(\n",
            "[-0.        -0.        -0.        -0.        -0.        -2.2402854\n",
            " -0.        -0.        -0.        -0.       ], shape=(10,), dtype=float32)\n",
            "-----------\n",
            "tf.Tensor(\n",
            "[-0. -0. -0. -0. -0. -0. -0. -0. -0. -0. -0. -0. -0. -0. -0. -0. -0. -0.\n",
            " -0. -0. -0. -0. -0. -0. -0. -0. -0. -0. -0. -0. -0. -0.], shape=(32,), dtype=float32)\n",
            "(32,)\n",
            "-----------------------------\n",
            "tf.Tensor(\n",
            "[-0.         -0.         -0.         -0.         -0.         -0.\n",
            " -0.         -0.         -0.47034672 -0.        ], shape=(10,), dtype=float32)\n",
            "-----------\n",
            "tf.Tensor(\n",
            "[-0. -0. -0. -0. -0. -0. -0. -0. -0. -0. -0. -0. -0. -0. -0. -0. -0. -0.\n",
            " -0. -0. -0. -0. -0. -0. -0. -0. -0. -0. -0. -0. -0. -0.], shape=(32,), dtype=float32)\n",
            "(32,)\n",
            "-----------------------------\n",
            "tf.Tensor(\n",
            "[-0.        -0.        -0.1663254 -0.        -0.        -0.\n",
            " -0.        -0.        -0.        -0.       ], shape=(10,), dtype=float32)\n",
            "-----------\n",
            "tf.Tensor(\n",
            "[-0. -0. -0. -0. -0. -0. -0. -0. -0. -0. -0. -0. -0. -0. -0. -0. -0. -0.\n",
            " -0. -0. -0. -0. -0. -0. -0. -0. -0. -0. -0. -0. -0. -0.], shape=(32,), dtype=float32)\n",
            "(32,)\n",
            "-----------------------------\n",
            "tf.Tensor(\n",
            "[-0.        -0.        -0.        -0.        -0.        -0.7327745\n",
            " -0.        -0.        -0.        -0.       ], shape=(10,), dtype=float32)\n",
            "-----------\n",
            "tf.Tensor(\n",
            "[-0. -0. -0. -0. -0. -0. -0. -0. -0. -0. -0. -0. -0. -0. -0. -0. -0. -0.\n",
            " -0. -0. -0. -0. -0. -0. -0. -0. -0. -0. -0. -0. -0. -0.], shape=(32,), dtype=float32)\n",
            "(32,)\n",
            "-----------------------------\n",
            "tf.Tensor(\n",
            "[-0.        -0.        -0.        -0.        -0.        -0.\n",
            " -0.        -0.        -0.        -0.6707365], shape=(10,), dtype=float32)\n",
            "-----------\n",
            "tf.Tensor(\n",
            "[-0. -0. -0. -0. -0. -0. -0. -0. -0. -0. -0. -0. -0. -0. -0. -0. -0. -0.\n",
            " -0. -0. -0. -0. -0. -0. -0. -0. -0. -0. -0. -0. -0. -0.], shape=(32,), dtype=float32)\n",
            "(32,)\n",
            "-----------------------------\n",
            "tf.Tensor(\n",
            "[-0.        -0.        -0.        -0.        -0.5182203 -0.\n",
            " -0.        -0.        -0.        -0.       ], shape=(10,), dtype=float32)\n",
            "-----------\n",
            "tf.Tensor(\n",
            "[-0. -0. -0. -0. -0. -0. -0. -0. -0. -0. -0. -0. -0. -0. -0. -0. -0. -0.\n",
            " -0. -0. -0. -0. -0. -0. -0. -0. -0. -0. -0. -0. -0. -0.], shape=(32,), dtype=float32)\n",
            "(32,)\n",
            "-----------------------------\n",
            "tf.Tensor(\n",
            "[-0.0699597 -0.        -0.        -0.        -0.        -0.\n",
            " -0.        -0.        -0.        -0.       ], shape=(10,), dtype=float32)\n",
            "-----------\n",
            "tf.Tensor(\n",
            "[-0. -0. -0. -0. -0. -0. -0. -0. -0. -0. -0. -0. -0. -0. -0. -0. -0. -0.\n",
            " -0. -0. -0. -0. -0. -0. -0. -0. -0. -0. -0. -0. -0. -0.], shape=(32,), dtype=float32)\n",
            "(32,)\n",
            "-----------------------------\n",
            "tf.Tensor(\n",
            "[-0.        -0.        -0.        -0.        -0.        -0.\n",
            " -0.        -2.8977723 -0.        -0.       ], shape=(10,), dtype=float32)\n",
            "-----------\n",
            "tf.Tensor(\n",
            "[-0. -0. -0. -0. -0. -0. -0. -0. -0. -0. -0. -0. -0. -0. -0. -0. -0. -0.\n",
            " -0. -0. -0. -0. -0. -0. -0. -0. -0. -0. -0. -0. -0. -0.], shape=(32,), dtype=float32)\n",
            "(32,)\n",
            "-----------------------------\n",
            "tf.Tensor(\n",
            "[-0.       -0.       -0.       -0.       -0.       -0.       -0.\n",
            " -0.       -0.       -0.283111], shape=(10,), dtype=float32)\n",
            "-----------\n",
            "tf.Tensor(\n",
            "[-0. -0. -0. -0. -0. -0. -0. -0. -0. -0. -0. -0. -0. -0. -0. -0. -0. -0.\n",
            " -0. -0. -0. -0. -0. -0. -0. -0. -0. -0. -0. -0. -0. -0.], shape=(32,), dtype=float32)\n",
            "(32,)\n",
            "-----------------------------\n",
            "tf.Tensor(\n",
            "[-0.         -0.         -0.         -0.         -0.         -0.\n",
            " -0.         -0.         -0.12044692 -0.        ], shape=(10,), dtype=float32)\n",
            "-----------\n",
            "tf.Tensor(\n",
            "[-0. -0. -0. -0. -0. -0. -0. -0. -0. -0. -0. -0. -0. -0. -0. -0. -0. -0.\n",
            " -0. -0. -0. -0. -0. -0. -0. -0. -0. -0. -0. -0. -0. -0.], shape=(32,), dtype=float32)\n",
            "(32,)\n",
            "-----------------------------\n",
            "tf.Tensor(\n",
            "[-0.         -0.         -0.         -0.         -0.         -0.\n",
            " -0.         -0.61948645 -0.         -0.        ], shape=(10,), dtype=float32)\n",
            "-----------\n",
            "tf.Tensor(\n",
            "[-0. -0. -0. -0. -0. -0. -0. -0. -0. -0. -0. -0. -0. -0. -0. -0. -0. -0.\n",
            " -0. -0. -0. -0. -0. -0. -0. -0. -0. -0. -0. -0. -0. -0.], shape=(32,), dtype=float32)\n",
            "(32,)\n",
            "-----------------------------\n",
            "tf.Tensor(\n",
            "[-0.         -0.04062416 -0.         -0.         -0.         -0.\n",
            " -0.         -0.         -0.         -0.        ], shape=(10,), dtype=float32)\n",
            "-----------\n",
            "tf.Tensor(\n",
            "[-0. -0. -0. -0. -0. -0. -0. -0. -0. -0. -0. -0. -0. -0. -0. -0. -0. -0.\n",
            " -0. -0. -0. -0. -0. -0. -0. -0. -0. -0. -0. -0. -0. -0.], shape=(32,), dtype=float32)\n",
            "(32,)\n",
            "-----------------------------\n",
            "tf.Tensor(\n",
            "[-0.         -0.         -0.         -0.         -0.         -0.\n",
            " -0.         -0.         -0.         -0.43373427], shape=(10,), dtype=float32)\n",
            "-----------\n",
            "tf.Tensor(\n",
            "[-0. -0. -0. -0. -0. -0. -0. -0. -0. -0. -0. -0. -0. -0. -0. -0. -0. -0.\n",
            " -0. -0. -0. -0. -0. -0. -0. -0. -0. -0. -0. -0. -0. -0.], shape=(32,), dtype=float32)\n",
            "(32,)\n",
            "-----------------------------\n",
            "tf.Tensor(\n",
            "[-0.         -0.         -0.         -0.15928088 -0.         -0.\n",
            " -0.         -0.         -0.         -0.        ], shape=(10,), dtype=float32)\n",
            "-----------\n",
            "tf.Tensor(\n",
            "[-0. -0. -0. -0. -0. -0. -0. -0. -0. -0. -0. -0. -0. -0. -0. -0. -0. -0.\n",
            " -0. -0. -0. -0. -0. -0. -0. -0. -0. -0. -0. -0. -0. -0.], shape=(32,), dtype=float32)\n",
            "(32,)\n",
            "-----------------------------\n",
            "tf.Tensor(\n",
            "[-0.         -0.63037217 -0.         -0.         -0.         -0.\n",
            " -0.         -0.         -0.         -0.        ], shape=(10,), dtype=float32)\n",
            "-----------\n",
            "tf.Tensor(\n",
            "[-0. -0. -0. -0. -0. -0. -0. -0. -0. -0. -0. -0. -0. -0. -0. -0. -0. -0.\n",
            " -0. -0. -0. -0. -0. -0. -0. -0. -0. -0. -0. -0. -0. -0.], shape=(32,), dtype=float32)\n",
            "(32,)\n",
            "-----------------------------\n",
            "tf.Tensor(\n",
            "[-0.         -0.         -0.         -0.         -0.         -0.\n",
            " -0.07423651 -0.         -0.         -0.        ], shape=(10,), dtype=float32)\n",
            "-----------\n",
            "tf.Tensor(\n",
            "[-0. -0. -0. -0. -0. -0. -0. -0. -0. -0. -0. -0. -0. -0. -0. -0. -0. -0.\n",
            " -0. -0. -0. -0. -0. -0. -0. -0. -0. -0. -0. -0. -0. -0.], shape=(32,), dtype=float32)\n",
            "(32,)\n",
            "-----------------------------\n",
            "tf.Tensor(\n",
            "[-0.         -0.         -0.         -0.         -0.         -0.\n",
            " -0.00203602 -0.         -0.         -0.        ], shape=(10,), dtype=float32)\n",
            "-----------\n",
            "tf.Tensor(\n",
            "[-0. -0. -0. -0. -0. -0. -0. -0. -0. -0. -0. -0. -0. -0. -0. -0. -0. -0.\n",
            " -0. -0. -0. -0. -0. -0. -0. -0. -0. -0. -0. -0. -0. -0.], shape=(32,), dtype=float32)\n",
            "(32,)\n",
            "-----------------------------\n",
            "tf.Tensor(\n",
            "[-0.         -0.         -0.         -0.         -0.         -0.\n",
            " -0.         -0.         -0.09431929 -0.        ], shape=(10,), dtype=float32)\n",
            "-----------\n",
            "tf.Tensor(\n",
            "[-0. -0. -0. -0. -0. -0. -0. -0. -0. -0. -0. -0. -0. -0. -0. -0. -0. -0.\n",
            " -0. -0. -0. -0. -0. -0. -0. -0. -0. -0. -0. -0. -0. -0.], shape=(32,), dtype=float32)\n",
            "(32,)\n",
            "-----------------------------\n",
            "tf.Tensor(\n",
            "[-0.         -0.         -0.         -0.         -0.         -0.\n",
            " -0.         -0.36122486 -0.         -0.        ], shape=(10,), dtype=float32)\n",
            "-----------\n",
            "tf.Tensor(\n",
            "[-0. -0. -0. -0. -0. -0. -0. -0. -0. -0. -0. -0. -0. -0. -0. -0. -0. -0.\n",
            " -0. -0. -0. -0. -0. -0. -0. -0. -0. -0. -0. -0. -0. -0.], shape=(32,), dtype=float32)\n",
            "(32,)\n",
            "-----------------------------\n",
            "tf.Tensor(\n",
            "[-0.         -0.         -0.         -0.29162422 -0.         -0.\n",
            " -0.         -0.         -0.         -0.        ], shape=(10,), dtype=float32)\n",
            "-----------\n",
            "tf.Tensor(\n",
            "[-0. -0. -0. -0. -0. -0. -0. -0. -0. -0. -0. -0. -0. -0. -0. -0. -0. -0.\n",
            " -0. -0. -0. -0. -0. -0. -0. -0. -0. -0. -0. -0. -0. -0.], shape=(32,), dtype=float32)\n",
            "(32,)\n",
            "-----------------------------\n",
            "tf.Tensor(\n",
            "[-0.         -0.         -0.         -0.         -0.         -0.\n",
            " -0.         -0.         -0.         -0.18829064], shape=(10,), dtype=float32)\n",
            "-----------\n",
            "tf.Tensor(\n",
            "[-0. -0. -0. -0. -0. -0. -0. -0. -0. -0. -0. -0. -0. -0. -0. -0. -0. -0.\n",
            " -0. -0. -0. -0. -0. -0. -0. -0. -0. -0. -0. -0. -0. -0.], shape=(32,), dtype=float32)\n",
            "(32,)\n",
            "-----------------------------\n",
            "tf.Tensor(\n",
            "[-0.00070167 -0.         -0.         -0.         -0.         -0.\n",
            " -0.         -0.         -0.         -0.        ], shape=(10,), dtype=float32)\n",
            "-----------\n",
            "tf.Tensor(\n",
            "[-0. -0. -0. -0. -0. -0. -0. -0. -0. -0. -0. -0. -0. -0. -0. -0. -0. -0.\n",
            " -0. -0. -0. -0. -0. -0. -0. -0. -0. -0. -0. -0. -0. -0.], shape=(32,), dtype=float32)\n",
            "(32,)\n",
            "-----------------------------\n"
          ],
          "name": "stdout"
        },
        {
          "output_type": "stream",
          "text": [
            "tf.Tensor(\n",
            "[-0.        -0.        -1.3057154 -0.        -0.        -0.\n",
            " -0.        -0.        -0.        -0.       ], shape=(10,), dtype=float32)\n",
            "-----------\n",
            "tf.Tensor(\n",
            "[-0. -0. -0. -0. -0. -0. -0. -0. -0. -0. -0. -0. -0. -0. -0. -0. -0. -0.\n",
            " -0. -0. -0. -0. -0. -0. -0. -0. -0. -0. -0. -0. -0. -0.], shape=(32,), dtype=float32)\n",
            "(32,)\n",
            "-----------------------------\n",
            "tf.Tensor(\n",
            "[-0.         -0.         -0.         -0.07089016 -0.         -0.\n",
            " -0.         -0.         -0.         -0.        ], shape=(10,), dtype=float32)\n",
            "-----------\n",
            "tf.Tensor(\n",
            "[-0. -0. -0. -0. -0. -0. -0. -0. -0. -0. -0. -0. -0. -0. -0. -0. -0. -0.\n",
            " -0. -0. -0. -0. -0. -0. -0. -0. -0. -0. -0. -0. -0. -0.], shape=(32,), dtype=float32)\n",
            "(32,)\n",
            "-----------------------------\n",
            "tf.Tensor(\n",
            "[-0.         -0.         -0.         -0.         -0.         -0.\n",
            " -0.         -0.17860323 -0.         -0.        ], shape=(10,), dtype=float32)\n",
            "-----------\n",
            "tf.Tensor(\n",
            "[-0. -0. -0. -0. -0. -0. -0. -0. -0. -0. -0. -0. -0. -0. -0. -0. -0. -0.\n",
            " -0. -0. -0. -0. -0. -0. -0. -0. -0. -0. -0. -0. -0. -0.], shape=(32,), dtype=float32)\n",
            "(32,)\n",
            "-----------------------------\n",
            "tf.Tensor(\n",
            "[-0.         -0.04373845 -0.         -0.         -0.         -0.\n",
            " -0.         -0.         -0.         -0.        ], shape=(10,), dtype=float32)\n",
            "-----------\n",
            "tf.Tensor(\n",
            "[-0. -0. -0. -0. -0. -0. -0. -0. -0. -0. -0. -0. -0. -0. -0. -0. -0. -0.\n",
            " -0. -0. -0. -0. -0. -0. -0. -0. -0. -0. -0. -0. -0. -0.], shape=(32,), dtype=float32)\n",
            "(32,)\n",
            "-----------------------------\n",
            "tf.Tensor(\n",
            "[-0.         -0.         -0.         -0.02881452 -0.         -0.\n",
            " -0.         -0.         -0.         -0.        ], shape=(10,), dtype=float32)\n",
            "-----------\n",
            "tf.Tensor(\n",
            "[-0. -0. -0. -0. -0. -0. -0. -0. -0. -0. -0. -0. -0. -0. -0. -0. -0. -0.\n",
            " -0. -0. -0. -0. -0. -0. -0. -0. -0. -0. -0. -0. -0. -0.], shape=(32,), dtype=float32)\n",
            "(32,)\n",
            "-----------------------------\n",
            "tf.Tensor(\n",
            "[-0.        -0.        -0.        -0.        -0.        -0.\n",
            " -0.        -0.        -7.3607063 -0.       ], shape=(10,), dtype=float32)\n",
            "-----------\n",
            "tf.Tensor(\n",
            "[-0. -0. -0. -0. -0. -0. -0. -0. -0. -0. -0. -0. -0. -0. -0. -0. -0. -0.\n",
            " -0. -0. -0. -0. -0. -0. -0. -0. -0. -0. -0. -0. -0. -0.], shape=(32,), dtype=float32)\n",
            "(32,)\n",
            "-----------------------------\n",
            "tf.Tensor(\n",
            "[-0.         -0.         -0.         -0.         -0.         -0.\n",
            " -0.         -0.         -0.         -0.03534966], shape=(10,), dtype=float32)\n",
            "-----------\n",
            "tf.Tensor(\n",
            "[-0. -0. -0. -0. -0. -0. -0. -0. -0. -0. -0. -0. -0. -0. -0. -0. -0. -0.\n",
            " -0. -0. -0. -0. -0. -0. -0. -0. -0. -0. -0. -0. -0. -0.], shape=(32,), dtype=float32)\n",
            "(32,)\n",
            "-----------------------------\n",
            "tf.Tensor(\n",
            "[-0.00783339 -0.         -0.         -0.         -0.         -0.\n",
            " -0.         -0.         -0.         -0.        ], shape=(10,), dtype=float32)\n",
            "-----------\n",
            "tf.Tensor(\n",
            "[-0. -0. -0. -0. -0. -0. -0. -0. -0. -0. -0. -0. -0. -0. -0. -0. -0. -0.\n",
            " -0. -0. -0. -0. -0. -0. -0. -0. -0. -0. -0. -0. -0. -0.], shape=(32,), dtype=float32)\n",
            "(32,)\n",
            "-----------------------------\n",
            "tf.Tensor(\n",
            "[-0.         -0.         -0.         -0.         -0.         -0.\n",
            " -0.         -0.         -0.11464314 -0.        ], shape=(10,), dtype=float32)\n",
            "-----------\n",
            "tf.Tensor(\n",
            "[-0. -0. -0. -0. -0. -0. -0. -0. -0. -0. -0. -0. -0. -0. -0. -0. -0. -0.\n",
            " -0. -0. -0. -0. -0. -0. -0. -0. -0. -0. -0. -0. -0. -0.], shape=(32,), dtype=float32)\n",
            "(32,)\n",
            "-----------------------------\n",
            "tf.Tensor(\n",
            "[-0.        -0.        -0.        -0.        -0.        -0.\n",
            " -0.2088227 -0.        -0.        -0.       ], shape=(10,), dtype=float32)\n",
            "-----------\n",
            "tf.Tensor(\n",
            "[-0. -0. -0. -0. -0. -0. -0. -0. -0. -0. -0. -0. -0. -0. -0. -0. -0. -0.\n",
            " -0. -0. -0. -0. -0. -0. -0. -0. -0. -0. -0. -0. -0. -0.], shape=(32,), dtype=float32)\n",
            "(32,)\n",
            "-----------------------------\n",
            "tf.Tensor(\n",
            "[-0.         -0.         -0.         -0.         -0.         -0.\n",
            " -0.         -0.04909731 -0.         -0.        ], shape=(10,), dtype=float32)\n",
            "-----------\n",
            "tf.Tensor(\n",
            "[-0. -0. -0. -0. -0. -0. -0. -0. -0. -0. -0. -0. -0. -0. -0. -0. -0. -0.\n",
            " -0. -0. -0. -0. -0. -0. -0. -0. -0. -0. -0. -0. -0. -0.], shape=(32,), dtype=float32)\n",
            "(32,)\n",
            "-----------------------------\n",
            "tf.Tensor(\n",
            "[-0.        -0.        -0.        -0.0147185 -0.        -0.\n",
            " -0.        -0.        -0.        -0.       ], shape=(10,), dtype=float32)\n",
            "-----------\n",
            "tf.Tensor(\n",
            "[-0. -0. -0. -0. -0. -0. -0. -0. -0. -0. -0. -0. -0. -0. -0. -0. -0. -0.\n",
            " -0. -0. -0. -0. -0. -0. -0. -0. -0. -0. -0. -0. -0. -0.], shape=(32,), dtype=float32)\n",
            "(32,)\n",
            "-----------------------------\n",
            "tf.Tensor(\n",
            "[-0.         -0.         -0.         -0.         -0.         -0.\n",
            " -0.00362289 -0.         -0.         -0.        ], shape=(10,), dtype=float32)\n",
            "-----------\n",
            "tf.Tensor(\n",
            "[-0. -0. -0. -0. -0. -0. -0. -0. -0. -0. -0. -0. -0. -0. -0. -0. -0. -0.\n",
            " -0. -0. -0. -0. -0. -0. -0. -0. -0. -0. -0. -0. -0. -0.], shape=(32,), dtype=float32)\n",
            "(32,)\n",
            "-----------------------------\n",
            "tf.Tensor(\n",
            "[-0.         -0.         -0.         -0.         -0.         -0.\n",
            " -0.         -0.         -0.07576032 -0.        ], shape=(10,), dtype=float32)\n",
            "-----------\n",
            "tf.Tensor(\n",
            "[-0. -0. -0. -0. -0. -0. -0. -0. -0. -0. -0. -0. -0. -0. -0. -0. -0. -0.\n",
            " -0. -0. -0. -0. -0. -0. -0. -0. -0. -0. -0. -0. -0. -0.], shape=(32,), dtype=float32)\n",
            "(32,)\n",
            "-----------------------------\n",
            "tf.Tensor(\n",
            "[-0.         -0.         -0.         -0.         -0.00227669 -0.\n",
            " -0.         -0.         -0.         -0.        ], shape=(10,), dtype=float32)\n",
            "-----------\n",
            "tf.Tensor(\n",
            "[-0. -0. -0. -0. -0. -0. -0. -0. -0. -0. -0. -0. -0. -0. -0. -0. -0. -0.\n",
            " -0. -0. -0. -0. -0. -0. -0. -0. -0. -0. -0. -0. -0. -0.], shape=(32,), dtype=float32)\n",
            "(32,)\n",
            "-----------------------------\n",
            "tf.Tensor(\n",
            "[-0.         -0.06052722 -0.         -0.         -0.         -0.\n",
            " -0.         -0.         -0.         -0.        ], shape=(10,), dtype=float32)\n",
            "-----------\n",
            "tf.Tensor(\n",
            "[-0. -0. -0. -0. -0. -0. -0. -0. -0. -0. -0. -0. -0. -0. -0. -0. -0. -0.\n",
            " -0. -0. -0. -0. -0. -0. -0. -0. -0. -0. -0. -0. -0. -0.], shape=(32,), dtype=float32)\n",
            "(32,)\n",
            "-----------------------------\n",
            "tf.Tensor(\n",
            "[-0.         -0.         -0.         -0.         -0.         -0.41082156\n",
            " -0.         -0.         -0.         -0.        ], shape=(10,), dtype=float32)\n",
            "-----------\n",
            "tf.Tensor(\n",
            "[-0. -0. -0. -0. -0. -0. -0. -0. -0. -0. -0. -0. -0. -0. -0. -0. -0. -0.\n",
            " -0. -0. -0. -0. -0. -0. -0. -0. -0. -0. -0. -0. -0. -0.], shape=(32,), dtype=float32)\n",
            "(32,)\n",
            "-----------------------------\n",
            "tf.Tensor(\n",
            "[-0.         -0.         -0.         -0.         -0.31619522 -0.\n",
            " -0.         -0.         -0.         -0.        ], shape=(10,), dtype=float32)\n",
            "-----------\n",
            "tf.Tensor(\n",
            "[-0. -0. -0. -0. -0. -0. -0. -0. -0. -0. -0. -0. -0. -0. -0. -0. -0. -0.\n",
            " -0. -0. -0. -0. -0. -0. -0. -0. -0. -0. -0. -0. -0. -0.], shape=(32,), dtype=float32)\n",
            "(32,)\n",
            "-----------------------------\n",
            "tf.Tensor(\n",
            "[-0.        -0.        -0.        -0.        -0.        -0.9171341\n",
            " -0.        -0.        -0.        -0.       ], shape=(10,), dtype=float32)\n",
            "-----------\n",
            "tf.Tensor(\n",
            "[-0. -0. -0. -0. -0. -0. -0. -0. -0. -0. -0. -0. -0. -0. -0. -0. -0. -0.\n",
            " -0. -0. -0. -0. -0. -0. -0. -0. -0. -0. -0. -0. -0. -0.], shape=(32,), dtype=float32)\n",
            "(32,)\n",
            "-----------------------------\n",
            "tf.Tensor(\n",
            "[-0.         -0.03932291 -0.         -0.         -0.         -0.\n",
            " -0.         -0.         -0.         -0.        ], shape=(10,), dtype=float32)\n",
            "-----------\n",
            "tf.Tensor(\n",
            "[-0. -0. -0. -0. -0. -0. -0. -0. -0. -0. -0. -0. -0. -0. -0. -0. -0. -0.\n",
            " -0. -0. -0. -0. -0. -0. -0. -0. -0. -0. -0. -0. -0. -0.], shape=(32,), dtype=float32)\n",
            "(32,)\n",
            "-----------------------------\n",
            "tf.Tensor(\n",
            "[-0.         -0.         -0.         -0.         -0.00786709 -0.\n",
            " -0.         -0.         -0.         -0.        ], shape=(10,), dtype=float32)\n",
            "-----------\n",
            "tf.Tensor(\n",
            "[-0. -0. -0. -0. -0. -0. -0. -0. -0. -0. -0. -0. -0. -0. -0. -0. -0. -0.\n",
            " -0. -0. -0. -0. -0. -0. -0. -0. -0. -0. -0. -0. -0. -0.], shape=(32,), dtype=float32)\n",
            "(32,)\n",
            "-----------------------------\n",
            "tf.Tensor(\n",
            "[-0.        -0.        -0.2932304 -0.        -0.        -0.\n",
            " -0.        -0.        -0.        -0.       ], shape=(10,), dtype=float32)\n",
            "-----------\n",
            "tf.Tensor(\n",
            "[-0. -0. -0. -0. -0. -0. -0. -0. -0. -0. -0. -0. -0. -0. -0. -0. -0. -0.\n",
            " -0. -0. -0. -0. -0. -0. -0. -0. -0. -0. -0. -0. -0. -0.], shape=(32,), dtype=float32)\n",
            "(32,)\n",
            "-----------------------------\n",
            "tf.Tensor(\n",
            "[-0.         -0.         -0.         -0.         -0.         -0.\n",
            " -0.         -0.         -0.         -0.03622819], shape=(10,), dtype=float32)\n",
            "-----------\n",
            "tf.Tensor(\n",
            "[-0. -0. -0. -0. -0. -0. -0. -0. -0. -0. -0. -0. -0. -0. -0. -0. -0. -0.\n",
            " -0. -0. -0. -0. -0. -0. -0. -0. -0. -0. -0. -0. -0. -0.], shape=(32,), dtype=float32)\n",
            "(32,)\n",
            "-----------------------------\n",
            "tf.Tensor(\n",
            "[-0.         -0.         -0.         -0.         -0.         -0.10020962\n",
            " -0.         -0.         -0.         -0.        ], shape=(10,), dtype=float32)\n",
            "-----------\n",
            "tf.Tensor(\n",
            "[-0. -0. -0. -0. -0. -0. -0. -0. -0. -0. -0. -0. -0. -0. -0. -0. -0. -0.\n",
            " -0. -0. -0. -0. -0. -0. -0. -0. -0. -0. -0. -0. -0. -0.], shape=(32,), dtype=float32)\n",
            "(32,)\n",
            "-----------------------------\n",
            "tf.Tensor(\n",
            "[-0.0016317 -0.        -0.        -0.        -0.        -0.\n",
            " -0.        -0.        -0.        -0.       ], shape=(10,), dtype=float32)\n",
            "-----------\n",
            "tf.Tensor(\n",
            "[-0. -0. -0. -0. -0. -0. -0. -0. -0. -0. -0. -0. -0. -0. -0. -0. -0. -0.\n",
            " -0. -0. -0. -0. -0. -0. -0. -0. -0. -0. -0. -0. -0. -0.], shape=(32,), dtype=float32)\n",
            "(32,)\n",
            "-----------------------------\n",
            "tf.Tensor(\n",
            "[-0.24244145 -0.         -0.         -0.         -0.         -0.\n",
            " -0.         -0.         -0.         -0.        ], shape=(10,), dtype=float32)\n",
            "-----------\n",
            "tf.Tensor(\n",
            "[-0. -0. -0. -0. -0. -0. -0. -0. -0. -0. -0. -0. -0. -0. -0. -0. -0. -0.\n",
            " -0. -0. -0. -0. -0. -0. -0. -0. -0. -0. -0. -0. -0. -0.], shape=(32,), dtype=float32)\n",
            "(32,)\n",
            "-----------------------------\n",
            "tf.Tensor(\n",
            "[-0.         -0.01619599 -0.         -0.         -0.         -0.\n",
            " -0.         -0.         -0.         -0.        ], shape=(10,), dtype=float32)\n",
            "-----------\n",
            "tf.Tensor(\n",
            "[-0. -0. -0. -0. -0. -0. -0. -0. -0. -0. -0. -0. -0. -0. -0. -0. -0. -0.\n",
            " -0. -0. -0. -0. -0. -0. -0. -0. -0. -0. -0. -0. -0. -0.], shape=(32,), dtype=float32)\n",
            "(32,)\n",
            "-----------------------------\n"
          ],
          "name": "stdout"
        },
        {
          "output_type": "error",
          "ename": "KeyboardInterrupt",
          "evalue": "ignored",
          "traceback": [
            "\u001b[0;31m---------------------------------------------------------------------------\u001b[0m",
            "\u001b[0;31mKeyboardInterrupt\u001b[0m                         Traceback (most recent call last)",
            "\u001b[0;32m<ipython-input-106-713194d52d37>\u001b[0m in \u001b[0;36m<module>\u001b[0;34m()\u001b[0m\n\u001b[1;32m      8\u001b[0m     \u001b[0mloss_value\u001b[0m \u001b[0;34m=\u001b[0m \u001b[0mloss\u001b[0m\u001b[0;34m(\u001b[0m\u001b[0mlogits\u001b[0m\u001b[0;34m,\u001b[0m \u001b[0mlabels\u001b[0m\u001b[0;34m)\u001b[0m\u001b[0;34m\u001b[0m\u001b[0m\n\u001b[1;32m      9\u001b[0m \u001b[0;34m\u001b[0m\u001b[0m\n\u001b[0;32m---> 10\u001b[0;31m   \u001b[0mgrads\u001b[0m \u001b[0;34m=\u001b[0m \u001b[0mtape\u001b[0m\u001b[0;34m.\u001b[0m\u001b[0mgradient\u001b[0m\u001b[0;34m(\u001b[0m\u001b[0mloss_value\u001b[0m\u001b[0;34m,\u001b[0m \u001b[0mmodel\u001b[0m\u001b[0;34m.\u001b[0m\u001b[0mvariables\u001b[0m\u001b[0;34m)\u001b[0m\u001b[0;34m\u001b[0m\u001b[0m\n\u001b[0m\u001b[1;32m     11\u001b[0m   optimizer.apply_gradients(zip(grads, model.variables),\n\u001b[1;32m     12\u001b[0m                             global_step=tf.train.get_or_create_global_step())\n",
            "\u001b[0;32m/usr/local/lib/python3.6/dist-packages/tensorflow/python/eager/backprop.py\u001b[0m in \u001b[0;36mgradient\u001b[0;34m(self, target, sources, output_gradients)\u001b[0m\n\u001b[1;32m    762\u001b[0m     grad = imperative_grad.imperative_grad(\n\u001b[1;32m    763\u001b[0m         \u001b[0m_default_vspace\u001b[0m\u001b[0;34m,\u001b[0m \u001b[0mself\u001b[0m\u001b[0;34m.\u001b[0m\u001b[0m_tape\u001b[0m\u001b[0;34m,\u001b[0m \u001b[0;34m[\u001b[0m\u001b[0mtarget\u001b[0m\u001b[0;34m]\u001b[0m\u001b[0;34m,\u001b[0m \u001b[0msources\u001b[0m\u001b[0;34m,\u001b[0m\u001b[0;34m\u001b[0m\u001b[0m\n\u001b[0;32m--> 764\u001b[0;31m         output_gradients=output_gradients)\n\u001b[0m\u001b[1;32m    765\u001b[0m     \u001b[0;32mif\u001b[0m \u001b[0;32mnot\u001b[0m \u001b[0mself\u001b[0m\u001b[0;34m.\u001b[0m\u001b[0m_persistent\u001b[0m\u001b[0;34m:\u001b[0m\u001b[0;34m\u001b[0m\u001b[0m\n\u001b[1;32m    766\u001b[0m       \u001b[0mself\u001b[0m\u001b[0;34m.\u001b[0m\u001b[0m_tape\u001b[0m \u001b[0;34m=\u001b[0m \u001b[0;32mNone\u001b[0m\u001b[0;34m\u001b[0m\u001b[0m\n",
            "\u001b[0;32m/usr/local/lib/python3.6/dist-packages/tensorflow/python/eager/imperative_grad.py\u001b[0m in \u001b[0;36mimperative_grad\u001b[0;34m(vspace, tape, target, sources, output_gradients)\u001b[0m\n\u001b[1;32m     63\u001b[0m   \u001b[0;32mwith\u001b[0m \u001b[0merrors\u001b[0m\u001b[0;34m.\u001b[0m\u001b[0mraise_exception_on_not_ok_status\u001b[0m\u001b[0;34m(\u001b[0m\u001b[0;34m)\u001b[0m \u001b[0;32mas\u001b[0m \u001b[0mstatus\u001b[0m\u001b[0;34m:\u001b[0m\u001b[0;34m\u001b[0m\u001b[0m\n\u001b[1;32m     64\u001b[0m     return pywrap_tensorflow.TFE_Py_TapeGradient(\n\u001b[0;32m---> 65\u001b[0;31m         tape._tape, vspace, target, sources, output_gradients, status)  # pylint: disable=protected-access\n\u001b[0m",
            "\u001b[0;32m/usr/local/lib/python3.6/dist-packages/tensorflow/python/eager/backprop.py\u001b[0m in \u001b[0;36mgrad_fn\u001b[0;34m(*orig_outputs)\u001b[0m\n\u001b[1;32m    139\u001b[0m   \u001b[0;32mdef\u001b[0m \u001b[0mgrad_fn\u001b[0m\u001b[0;34m(\u001b[0m\u001b[0;34m*\u001b[0m\u001b[0morig_outputs\u001b[0m\u001b[0;34m)\u001b[0m\u001b[0;34m:\u001b[0m\u001b[0;34m\u001b[0m\u001b[0m\n\u001b[1;32m    140\u001b[0m     result = _magic_gradient_function(op_name, attrs, num_inputs,\n\u001b[0;32m--> 141\u001b[0;31m                                       op_inputs, op_outputs, orig_outputs)\n\u001b[0m\u001b[1;32m    142\u001b[0m     \u001b[0;32mif\u001b[0m \u001b[0m_tracing\u001b[0m\u001b[0;34m:\u001b[0m\u001b[0;34m\u001b[0m\u001b[0m\n\u001b[1;32m    143\u001b[0m       print(\"Gradient for\", op_name, \"inputs\", op_inputs, \"output_grads\",\n",
            "\u001b[0;32m/usr/local/lib/python3.6/dist-packages/tensorflow/python/eager/backprop.py\u001b[0m in \u001b[0;36m_magic_gradient_function\u001b[0;34m(op_name, attr_tuple, num_inputs, inputs, outputs, out_grads)\u001b[0m\n\u001b[1;32m    107\u001b[0m     \u001b[0;32mreturn\u001b[0m \u001b[0;34m[\u001b[0m\u001b[0;32mNone\u001b[0m\u001b[0;34m]\u001b[0m \u001b[0;34m*\u001b[0m \u001b[0mnum_inputs\u001b[0m\u001b[0;34m\u001b[0m\u001b[0m\n\u001b[1;32m    108\u001b[0m \u001b[0;34m\u001b[0m\u001b[0m\n\u001b[0;32m--> 109\u001b[0;31m   \u001b[0;32mreturn\u001b[0m \u001b[0mgrad_fn\u001b[0m\u001b[0;34m(\u001b[0m\u001b[0mmock_op\u001b[0m\u001b[0;34m,\u001b[0m \u001b[0;34m*\u001b[0m\u001b[0mout_grads\u001b[0m\u001b[0;34m)\u001b[0m\u001b[0;34m\u001b[0m\u001b[0m\n\u001b[0m\u001b[1;32m    110\u001b[0m \u001b[0;34m\u001b[0m\u001b[0m\n\u001b[1;32m    111\u001b[0m \u001b[0;34m\u001b[0m\u001b[0m\n",
            "\u001b[0;32m/usr/local/lib/python3.6/dist-packages/tensorflow/python/ops/math_grad.py\u001b[0m in \u001b[0;36m_MatMulGrad\u001b[0;34m(op, grad)\u001b[0m\n\u001b[1;32m   1061\u001b[0m   \u001b[0;32mif\u001b[0m \u001b[0;32mnot\u001b[0m \u001b[0mt_a\u001b[0m \u001b[0;32mand\u001b[0m \u001b[0;32mnot\u001b[0m \u001b[0mt_b\u001b[0m\u001b[0;34m:\u001b[0m\u001b[0;34m\u001b[0m\u001b[0m\n\u001b[1;32m   1062\u001b[0m     \u001b[0mgrad_a\u001b[0m \u001b[0;34m=\u001b[0m \u001b[0mgen_math_ops\u001b[0m\u001b[0;34m.\u001b[0m\u001b[0mmat_mul\u001b[0m\u001b[0;34m(\u001b[0m\u001b[0mgrad\u001b[0m\u001b[0;34m,\u001b[0m \u001b[0mb\u001b[0m\u001b[0;34m,\u001b[0m \u001b[0mtranspose_b\u001b[0m\u001b[0;34m=\u001b[0m\u001b[0;32mTrue\u001b[0m\u001b[0;34m)\u001b[0m\u001b[0;34m\u001b[0m\u001b[0m\n\u001b[0;32m-> 1063\u001b[0;31m     \u001b[0mgrad_b\u001b[0m \u001b[0;34m=\u001b[0m \u001b[0mgen_math_ops\u001b[0m\u001b[0;34m.\u001b[0m\u001b[0mmat_mul\u001b[0m\u001b[0;34m(\u001b[0m\u001b[0ma\u001b[0m\u001b[0;34m,\u001b[0m \u001b[0mgrad\u001b[0m\u001b[0;34m,\u001b[0m \u001b[0mtranspose_a\u001b[0m\u001b[0;34m=\u001b[0m\u001b[0;32mTrue\u001b[0m\u001b[0;34m)\u001b[0m\u001b[0;34m\u001b[0m\u001b[0m\n\u001b[0m\u001b[1;32m   1064\u001b[0m   \u001b[0;32melif\u001b[0m \u001b[0;32mnot\u001b[0m \u001b[0mt_a\u001b[0m \u001b[0;32mand\u001b[0m \u001b[0mt_b\u001b[0m\u001b[0;34m:\u001b[0m\u001b[0;34m\u001b[0m\u001b[0m\n\u001b[1;32m   1065\u001b[0m     \u001b[0mgrad_a\u001b[0m \u001b[0;34m=\u001b[0m \u001b[0mgen_math_ops\u001b[0m\u001b[0;34m.\u001b[0m\u001b[0mmat_mul\u001b[0m\u001b[0;34m(\u001b[0m\u001b[0mgrad\u001b[0m\u001b[0;34m,\u001b[0m \u001b[0mb\u001b[0m\u001b[0;34m)\u001b[0m\u001b[0;34m\u001b[0m\u001b[0m\n",
            "\u001b[0;32m/usr/local/lib/python3.6/dist-packages/tensorflow/python/ops/gen_math_ops.py\u001b[0m in \u001b[0;36mmat_mul\u001b[0;34m(a, b, transpose_a, transpose_b, name)\u001b[0m\n\u001b[1;32m   4222\u001b[0m         \u001b[0m_ctx\u001b[0m\u001b[0;34m.\u001b[0m\u001b[0m_handle\u001b[0m\u001b[0;34m,\u001b[0m \u001b[0m_ctx\u001b[0m\u001b[0;34m.\u001b[0m\u001b[0mdevice_name\u001b[0m\u001b[0;34m,\u001b[0m \u001b[0;34m\"MatMul\"\u001b[0m\u001b[0;34m,\u001b[0m \u001b[0mname\u001b[0m\u001b[0;34m,\u001b[0m\u001b[0;34m\u001b[0m\u001b[0m\n\u001b[1;32m   4223\u001b[0m         \u001b[0m_ctx\u001b[0m\u001b[0;34m.\u001b[0m\u001b[0m_post_execution_callbacks\u001b[0m\u001b[0;34m,\u001b[0m \u001b[0ma\u001b[0m\u001b[0;34m,\u001b[0m \u001b[0mb\u001b[0m\u001b[0;34m,\u001b[0m \u001b[0;34m\"transpose_a\"\u001b[0m\u001b[0;34m,\u001b[0m \u001b[0mtranspose_a\u001b[0m\u001b[0;34m,\u001b[0m\u001b[0;34m\u001b[0m\u001b[0m\n\u001b[0;32m-> 4224\u001b[0;31m         \"transpose_b\", transpose_b)\n\u001b[0m\u001b[1;32m   4225\u001b[0m       \u001b[0;32mreturn\u001b[0m \u001b[0m_result\u001b[0m\u001b[0;34m\u001b[0m\u001b[0m\n\u001b[1;32m   4226\u001b[0m     \u001b[0;32mexcept\u001b[0m \u001b[0m_core\u001b[0m\u001b[0;34m.\u001b[0m\u001b[0m_FallbackException\u001b[0m\u001b[0;34m:\u001b[0m\u001b[0;34m\u001b[0m\u001b[0m\n",
            "\u001b[0;31mKeyboardInterrupt\u001b[0m: "
          ]
        }
      ]
    },
    {
      "metadata": {
        "id": "mi95YnV965NO",
        "colab_type": "code",
        "colab": {}
      },
      "cell_type": "code",
      "source": [
        "from sklearn.metrics import confusion_matrix\n",
        "import itertools\n",
        "\n",
        "def plot_confusion_matrix(cm, classes,\n",
        "                          normalize=False,\n",
        "                          title='Confusion matrix',\n",
        "                          cmap=plt.cm.Blues):\n",
        "    \"\"\"\n",
        "    This function prints and plots the confusion matrix.\n",
        "    Normalization can be applied by setting `normalize=True`.\n",
        "    \"\"\"\n",
        "    if normalize:\n",
        "        cm = cm.astype('float') / cm.sum(axis=1)[:, np.newaxis]\n",
        "        print(\"Normalized confusion matrix\")\n",
        "    else:\n",
        "        print('Confusion matrix, without normalization')\n",
        "\n",
        "    # print(cm)\n",
        "\n",
        "    plt.imshow(cm, interpolation='nearest', cmap=cmap)\n",
        "    plt.title(title)\n",
        "    plt.colorbar()\n",
        "    tick_marks = np.arange(len(classes))\n",
        "    plt.xticks(tick_marks, classes, rotation=45)\n",
        "    plt.yticks(tick_marks, classes)\n",
        "\n",
        "    fmt = '.2f' if normalize else 'd'\n",
        "    thresh = cm.max() / 2.\n",
        "    for i, j in itertools.product(range(cm.shape[0]), range(cm.shape[1])):\n",
        "        plt.text(j, i, format(cm[i, j], fmt),\n",
        "                 horizontalalignment=\"center\",\n",
        "                 color=\"white\" if cm[i, j] > thresh else \"black\")\n",
        "\n",
        "    plt.tight_layout()\n",
        "    plt.ylabel('True label')\n",
        "    plt.xlabel('Predicted label')\n",
        "    plt.show()\n",
        "    \n",
        "def normalized_acc(conf_matrix):\n",
        "    for i in range(conf_matrix.shape[0]):\n",
        "        print(\"Acc class {0} --> {1: .3}\".format(i, conf_matrix[i,i]/sum(conf_matrix[i])))"
      ],
      "execution_count": 0,
      "outputs": []
    },
    {
      "metadata": {
        "id": "zxZiK6_00pt6",
        "colab_type": "text"
      },
      "cell_type": "markdown",
      "source": [
        "## Evaluation\n",
        "\n",
        "Run the trained model using the testing dataset."
      ]
    },
    {
      "metadata": {
        "id": "pBS4S7kJ65NQ",
        "colab_type": "code",
        "colab": {
          "base_uri": "https://localhost:8080/",
          "height": 35
        },
        "outputId": "41ac63f0-7e44-4a25-f658-8e198faae052"
      },
      "cell_type": "code",
      "source": [
        "test_logits = model(tf.expand_dims(tf.cast(X_test,tf.float32), axis=3))\n",
        "test_predictions = tf.argmax(test_logits, axis=1)\n",
        "print(\"Test Overall Accuracy: {: .3}\".format(accuracy_score(test_predictions, y_test)))"
      ],
      "execution_count": 0,
      "outputs": [
        {
          "output_type": "stream",
          "text": [
            "Test Overall Accuracy:  0.87\n"
          ],
          "name": "stdout"
        }
      ]
    },
    {
      "metadata": {
        "id": "Y-tCNPPC65NR",
        "colab_type": "code",
        "colab": {
          "base_uri": "https://localhost:8080/",
          "height": 434
        },
        "outputId": "1ab60b3f-48c1-4d9f-dc54-682ad27524c1"
      },
      "cell_type": "code",
      "source": [
        "conf_matrix = confusion_matrix(test_predictions, y_test)\n",
        "_ = plot_confusion_matrix(conf_matrix, classes=[str(i) for i in range(10)])"
      ],
      "execution_count": 0,
      "outputs": [
        {
          "output_type": "stream",
          "text": [
            "Confusion matrix, without normalization\n"
          ],
          "name": "stdout"
        },
        {
          "output_type": "display_data",
          "data": {
            "image/png": "[encoded data removed]",
            "text/plain": [
              "<matplotlib.figure.Figure at 0x7f59ebd1ef98>"
            ]
          },
          "metadata": {
            "tags": []
          }
        }
      ]
    },
    {
      "metadata": {
        "id": "E7eLhsYGQQCX",
        "colab_type": "code",
        "colab": {
          "base_uri": "https://localhost:8080/",
          "height": 199
        },
        "outputId": "f1d0fa84-2cca-4f40-c497-1ee29c69f772"
      },
      "cell_type": "code",
      "source": [
        "normalized_acc(conf_matrix)"
      ],
      "execution_count": 0,
      "outputs": [
        {
          "output_type": "stream",
          "text": [
            "Acc class 0 -->  0.958\n",
            "Acc class 1 -->  1.0\n",
            "Acc class 2 -->  0.978\n",
            "Acc class 3 -->  0.974\n",
            "Acc class 4 -->  0.992\n",
            "Acc class 5 -->  1.0\n",
            "Acc class 6 -->  0.971\n",
            "Acc class 7 -->  1.0\n",
            "Acc class 8 -->  0.488\n",
            "Acc class 9 -->  0.855\n"
          ],
          "name": "stdout"
        }
      ]
    }
  ]
}